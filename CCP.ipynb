{
 "cells": [
  {
   "cell_type": "markdown",
   "id": "24d456f2",
   "metadata": {},
   "source": [
    "## Aim:\n",
    "\n",
    "\n",
    "The aim of a churn prediction notebook is to develop a machine learning model that can predict which customers are likely to churn or discontinue their use of a service or product."
   ]
  },
  {
   "cell_type": "markdown",
   "id": "949b5d1d",
   "metadata": {},
   "source": [
    "# Import libraries"
   ]
  },
  {
   "cell_type": "code",
   "execution_count": 1,
   "id": "fde11a56",
   "metadata": {},
   "outputs": [],
   "source": [
    "import pandas as pd\n",
    "import numpy as np\n",
    "from projectpro import preserve, save_point, model_snapshot, feedback, show_video \n",
    "import sys\n",
    "preserve(\"fcTel2\")"
   ]
  },
  {
   "cell_type": "markdown",
   "id": "ea29c716",
   "metadata": {},
   "source": [
    "# Read data"
   ]
  },
  {
   "cell_type": "code",
   "execution_count": 2,
   "id": "b188d4b3",
   "metadata": {},
   "outputs": [],
   "source": [
    "df=pd.read_csv('https://s3.amazonaws.com/projex.dezyre.com/telecom-machine-learning-project-for-customer-churn/materials/Telecom_data.csv')"
   ]
  },
  {
   "cell_type": "markdown",
   "id": "c3ee5b5d",
   "metadata": {},
   "source": [
    "## Check the shape of the Dataframe & the Information of the Dataframe, datatypes and non-null counts"
   ]
  },
  {
   "cell_type": "code",
   "execution_count": 4,
   "id": "1a5a018f",
   "metadata": {},
   "outputs": [
    {
     "name": "stdout",
     "output_type": "stream",
     "text": [
      "<class 'pandas.core.frame.DataFrame'>\n",
      "RangeIndex: 653753 entries, 0 to 653752\n",
      "Data columns (total 74 columns):\n",
      " #   Column                      Non-Null Count   Dtype  \n",
      "---  ------                      --------------   -----  \n",
      " 0   Customer ID                 653753 non-null  object \n",
      " 1   Month                       653753 non-null  int64  \n",
      " 2   Month of Joining            653753 non-null  int64  \n",
      " 3   zip_code                    653753 non-null  int64  \n",
      " 4   Gender                      653753 non-null  object \n",
      " 5   Age                         653753 non-null  float64\n",
      " 6   Married                     653753 non-null  object \n",
      " 7   Dependents                  653753 non-null  object \n",
      " 8   Number of Dependents        653753 non-null  float64\n",
      " 9   Location ID                 653753 non-null  object \n",
      " 10  Service ID                  653753 non-null  object \n",
      " 11  state                       653753 non-null  object \n",
      " 12  county                      653753 non-null  object \n",
      " 13  timezone                    653753 non-null  object \n",
      " 14  area_codes                  653753 non-null  object \n",
      " 15  country                     653753 non-null  object \n",
      " 16  latitude                    653753 non-null  float64\n",
      " 17  longitude                   653753 non-null  float64\n",
      " 18  roam_ic                     653753 non-null  float64\n",
      " 19  roam_og                     653753 non-null  float64\n",
      " 20  loc_og_t2t                  653753 non-null  float64\n",
      " 21  loc_og_t2m                  653753 non-null  float64\n",
      " 22  loc_og_t2f                  653753 non-null  float64\n",
      " 23  loc_og_t2c                  653753 non-null  float64\n",
      " 24  std_og_t2t                  653753 non-null  float64\n",
      " 25  std_og_t2m                  653753 non-null  float64\n",
      " 26  std_og_t2f                  653753 non-null  float64\n",
      " 27  std_og_t2c                  653753 non-null  int64  \n",
      " 28  isd_og                      653753 non-null  float64\n",
      " 29  spl_og                      653753 non-null  float64\n",
      " 30  og_others                   653753 non-null  float64\n",
      " 31  loc_ic_t2t                  653753 non-null  float64\n",
      " 32  loc_ic_t2m                  653753 non-null  float64\n",
      " 33  loc_ic_t2f                  653753 non-null  float64\n",
      " 34  std_ic_t2t                  653753 non-null  float64\n",
      " 35  std_ic_t2m                  653753 non-null  float64\n",
      " 36  std_ic_t2f                  653753 non-null  float64\n",
      " 37  std_ic_t2o                  653753 non-null  int64  \n",
      " 38  spl_ic                      653753 non-null  float64\n",
      " 39  isd_ic                      653753 non-null  float64\n",
      " 40  ic_others                   653753 non-null  float64\n",
      " 41  total_rech_amt              653753 non-null  int64  \n",
      " 42  total_rech_data             443849 non-null  float64\n",
      " 43  vol_4g                      653753 non-null  float64\n",
      " 44  vol_5g                      653753 non-null  float64\n",
      " 45  arpu_5g                     653753 non-null  object \n",
      " 46  arpu_4g                     653753 non-null  object \n",
      " 47  arpu                        653753 non-null  float64\n",
      " 48  night_pck_user              280650 non-null  float64\n",
      " 49  fb_user                     243359 non-null  float64\n",
      " 50  aug_vbc_5g                  653753 non-null  float64\n",
      " 51  offer                       653753 non-null  object \n",
      " 52  Referred a Friend           653753 non-null  object \n",
      " 53  Number of Referrals         653753 non-null  float64\n",
      " 54  Phone Service               653753 non-null  object \n",
      " 55  Multiple Lines              653753 non-null  object \n",
      " 56  Internet Service            653753 non-null  object \n",
      " 57  Internet Type               436421 non-null  object \n",
      " 58  Streaming Data Consumption  653753 non-null  int64  \n",
      " 59  Online Security             653753 non-null  object \n",
      " 60  Online Backup               653753 non-null  object \n",
      " 61  Device Protection Plan      653753 non-null  object \n",
      " 62  Premium Tech Support        653753 non-null  object \n",
      " 63  Streaming TV                653753 non-null  object \n",
      " 64  Streaming Movies            653753 non-null  object \n",
      " 65  Streaming Music             653753 non-null  object \n",
      " 66  Unlimited Data              653753 non-null  object \n",
      " 67  Payment Method              653753 non-null  object \n",
      " 68  Status ID                   653753 non-null  object \n",
      " 69  Satisfaction Score          653753 non-null  int64  \n",
      " 70  Churn Category              653753 non-null  object \n",
      " 71  Churn Reason                653753 non-null  object \n",
      " 72  Customer Status             653753 non-null  object \n",
      " 73  Churn Value                 653753 non-null  int64  \n",
      "dtypes: float64(33), int64(9), object(32)\n",
      "memory usage: 369.1+ MB\n"
     ]
    }
   ],
   "source": [
    "df.shape\n",
    "df.info()"
   ]
  },
  {
   "cell_type": "code",
   "execution_count": null,
   "id": "29b1b05c",
   "metadata": {},
   "outputs": [],
   "source": []
  }
 ],
 "metadata": {
  "kernelspec": {
   "display_name": "Python 3 (ipykernel)",
   "language": "python",
   "name": "python3"
  },
  "language_info": {
   "codemirror_mode": {
    "name": "ipython",
    "version": 3
   },
   "file_extension": ".py",
   "mimetype": "text/x-python",
   "name": "python",
   "nbconvert_exporter": "python",
   "pygments_lexer": "ipython3",
   "version": "3.10.2"
  }
 },
 "nbformat": 4,
 "nbformat_minor": 5
}
