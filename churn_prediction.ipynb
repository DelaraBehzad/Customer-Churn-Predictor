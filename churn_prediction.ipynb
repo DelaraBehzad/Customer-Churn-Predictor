{
 "cells": [
  {
   "cell_type": "markdown",
   "metadata": {
    "id": "YRv8adCyfT6f"
   },
   "source": [
    "# **Telecom ML Project to Predict Customer Churn**"
   ]
  },
  {
   "cell_type": "markdown",
   "metadata": {
    "id": "yXZnQ0Q5eo-e"
   },
   "source": [
    "\n",
    "## Aim:\n",
    "\n",
    "The aim of a churn prediction notebook is to develop a machine learning model that can predict which customers are likely to churn or discontinue their use of a service or product. \n"
   ]
  },
  {
   "cell_type": "markdown",
   "metadata": {
    "id": "xdkeckhCKFMo"
   },
   "source": [
    "## **Approach**\n",
    "\n",
    "**Data exploration**\n",
    "\n",
    "* Load the dataset and examine its structure and contents.\n",
    "* Explore the distribution of the target variable (churn) and the features.\n",
    "\n",
    "**Data preprocessing**\n",
    "\n",
    "* Handle missing values by imputing them with appropriate values.\n",
    "* Handle outliers by removing or transforming them.\n",
    "* Encode categorical variables using one-hot encoding.\n",
    "* Scale numerical variables using Standard scaler.\n",
    "\n",
    "\n",
    "**Model training**\n",
    "\n",
    "* Split the data into training and validation sets.\n",
    "* Train logistic regression, random forest, and XGBoost models on the training set.\n",
    "* Evaluate the performance of the models on the validation set using metrics such as accuracy, precision, recall, and F1 score.\n",
    "* Choose the best-performing model based on the evaluation results.\n",
    "\n",
    "**Data drift monitoring**\n",
    "\n",
    "* Use deep checks to monitor for data drift in the input features and the target variable.\n",
    "* Check the model's performance on the validation set regularly to detect any model drift.\n",
    "\n",
    "**Inference pipeline**\n",
    "\n",
    "* Build an inference pipeline to predict churn for new data.\n",
    "* Handle cases where the label (churn) is not present in the input data.\n",
    "* Handle cases where the drift is detected by retraining the model with misclassified data.\n",
    "\n",
    "**Project Summary**\n",
    "\n",
    "* Summarize the results and draw insights from the model's predictions.\n",
    "* Provide recommendations for business actions based on the model's predictions."
   ]
  },
  {
   "cell_type": "markdown",
   "metadata": {
    "id": "UB7mcZqH9Hsf"
   },
   "source": [
    "## **Important Libraries**\n",
    " \n",
    "* **pandas**: pandas is a fast, powerful, flexible, and easy-to-use open-source data analysis and manipulation tool built on top of the Python programming language. Refer to [documentation](https://pandas.pydata.org/) for more information.\n",
    " \n",
    "* **NumPy**: The fundamental package for scientific computing with Python. Fast and versatile, the NumPy vectorization, indexing, and broadcasting concepts are the de-facto standards of array computing today. NumPy offers comprehensive mathematical functions, random number generators, linear algebra routines, Fourier transforms, and more. Refer to [documentation](https://numpy.org/) for more information. pandas and NumPy are together used for most of the data analysis and manipulation in Python.\n",
    "\n",
    "* **Matplotlib**: Matplotlib is a comprehensive library for creating static, animated, and interactive visualizations in Python. Refer to [documentation](https://matplotlib.org/) for more information.\n",
    " \n",
    "* **seaborn**: Seaborn is a Python data visualization library based on matplotlib. It provides a high-level interface for drawing attractive and informative statistical graphics. Refer to [documentation](https://seaborn.pydata.org/) for more information.\n",
    "\n",
    "* **scikit-learn**: Simple and efficient tools for predictive data analysis\n",
    "accessible to everybody and reusable in various contexts.\n",
    "It is built on NumPy, SciPy, and matplotlib to support machine learning in Python. Refer to [documentation](https://scikit-learn.org/stable/) for more information.\n",
    "\n",
    "* **Warnings**:The warnings library provides a way to handle warnings that are generated during program execution. Warnings are typically issued when there is a potential issue with code, but the code still runs without errors. The warnings module provides a way to catch these warnings and handle them in a way that is appropriate for the program. This can be especially useful when developing and debugging code, as warnings can help identify potential issues before they become errors.\n",
    "\n",
    "* **sys**:The sys library provides access to some system-specific parameters and functions. This library can be used to access system-level information, such as the command line arguments passed to the program, the version of the Python interpreter being used, and more. \n",
    "\n",
    "* **xgboost**: xgboost is an open-source machine learning library designed to be highly efficient, scalable, and portable. It is a gradient boosting algorithm that is used for supervised learning problems, including regression, classification, and ranking. Refer to [documentation](https://xgboost.readthedocs.io/en/stable/install.html) for more information.\n",
    "\n",
    "* **deepchecks**: deepchecks is an open-source library that is used for deep learning model debugging and monitoring. It provides a suite of tools for detecting and diagnosing common errors that can occur during the training and evaluation of deep learning models. Refer to [documentation](https://docs.deepchecks.com/stable/getting-started/welcome.html) for more information."
   ]
  },
  {
   "cell_type": "markdown",
   "metadata": {
    "id": "kUdQ82V3M_-R"
   },
   "source": [
    "## **Package Requirements**"
   ]
  },
  {
   "cell_type": "code",
   "execution_count": 1,
   "metadata": {
    "id": "2KU4tEjC15Jr"
   },
   "outputs": [],
   "source": [
    "import warnings\n",
    "warnings.filterwarnings('ignore')"
   ]
  },
  {
   "cell_type": "code",
   "execution_count": 2,
   "metadata": {
    "id": "nbG5fh1i9Q3U"
   },
   "outputs": [],
   "source": [
    "# Import libraries\n",
    "import pandas as pd\n",
    "import numpy as np\n",
    "from projectpro import preserve, save_point, model_snapshot, feedback, show_video \n",
    "import sys\n",
    "preserve(\"fcTel2\")"
   ]
  },
  {
   "cell_type": "markdown",
   "metadata": {
    "id": "H-I2Xd4o4uKB"
   },
   "source": [
    "## **Data Reading from Different Sources**"
   ]
  },
  {
   "cell_type": "code",
   "execution_count": 3,
   "metadata": {
    "id": "0cGA-Er4Z-2i"
   },
   "outputs": [],
   "source": [
    "np.set_printoptions(threshold=sys.maxsize)"
   ]
  },
  {
   "cell_type": "code",
   "execution_count": 4,
   "metadata": {
    "id": "5WNyymnhZ-2i"
   },
   "outputs": [],
   "source": [
    "pd.set_option('display.max_columns', 200)"
   ]
  },
  {
   "cell_type": "code",
   "execution_count": 5,
   "metadata": {
    "id": "-izhMtyrZ-2j"
   },
   "outputs": [],
   "source": [
    "# Read data\n",
    "df=pd.read_csv('https://s3.amazonaws.com/projex.dezyre.com/telecom-machine-learning-project-for-customer-churn/materials/Telecom_data.csv')"
   ]
  },
  {
   "cell_type": "markdown",
   "metadata": {
    "id": "eBC_yfBlN3mc"
   },
   "source": [
    "## **Data Exploration**\n",
    "\n"
   ]
  },
  {
   "cell_type": "code",
   "execution_count": 6,
   "metadata": {
    "id": "9Fqx0MsIZ-2j",
    "outputId": "14d978e0-75fa-4237-b17a-3c8d16c57c06"
   },
   "outputs": [
    {
     "data": {
      "text/plain": [
       "(653753, 74)"
      ]
     },
     "execution_count": 6,
     "metadata": {},
     "output_type": "execute_result"
    }
   ],
   "source": [
    "df.shape"
   ]
  },
  {
   "cell_type": "code",
   "execution_count": 7,
   "metadata": {
    "id": "gMm321OAZ-2k",
    "outputId": "254a55b1-2d79-4906-8ca8-78a837b0685c"
   },
   "outputs": [
    {
     "name": "stdout",
     "output_type": "stream",
     "text": [
      "<class 'pandas.core.frame.DataFrame'>\n",
      "RangeIndex: 653753 entries, 0 to 653752\n",
      "Data columns (total 74 columns):\n",
      " #   Column                      Non-Null Count   Dtype  \n",
      "---  ------                      --------------   -----  \n",
      " 0   Customer ID                 653753 non-null  object \n",
      " 1   Month                       653753 non-null  int64  \n",
      " 2   Month of Joining            653753 non-null  int64  \n",
      " 3   zip_code                    653753 non-null  int64  \n",
      " 4   Gender                      653753 non-null  object \n",
      " 5   Age                         653753 non-null  float64\n",
      " 6   Married                     653753 non-null  object \n",
      " 7   Dependents                  653753 non-null  object \n",
      " 8   Number of Dependents        653753 non-null  float64\n",
      " 9   Location ID                 653753 non-null  object \n",
      " 10  Service ID                  653753 non-null  object \n",
      " 11  state                       653753 non-null  object \n",
      " 12  county                      653753 non-null  object \n",
      " 13  timezone                    653753 non-null  object \n",
      " 14  area_codes                  653753 non-null  object \n",
      " 15  country                     653753 non-null  object \n",
      " 16  latitude                    653753 non-null  float64\n",
      " 17  longitude                   653753 non-null  float64\n",
      " 18  roam_ic                     653753 non-null  float64\n",
      " 19  roam_og                     653753 non-null  float64\n",
      " 20  loc_og_t2t                  653753 non-null  float64\n",
      " 21  loc_og_t2m                  653753 non-null  float64\n",
      " 22  loc_og_t2f                  653753 non-null  float64\n",
      " 23  loc_og_t2c                  653753 non-null  float64\n",
      " 24  std_og_t2t                  653753 non-null  float64\n",
      " 25  std_og_t2m                  653753 non-null  float64\n",
      " 26  std_og_t2f                  653753 non-null  float64\n",
      " 27  std_og_t2c                  653753 non-null  int64  \n",
      " 28  isd_og                      653753 non-null  float64\n",
      " 29  spl_og                      653753 non-null  float64\n",
      " 30  og_others                   653753 non-null  float64\n",
      " 31  loc_ic_t2t                  653753 non-null  float64\n",
      " 32  loc_ic_t2m                  653753 non-null  float64\n",
      " 33  loc_ic_t2f                  653753 non-null  float64\n",
      " 34  std_ic_t2t                  653753 non-null  float64\n",
      " 35  std_ic_t2m                  653753 non-null  float64\n",
      " 36  std_ic_t2f                  653753 non-null  float64\n",
      " 37  std_ic_t2o                  653753 non-null  int64  \n",
      " 38  spl_ic                      653753 non-null  float64\n",
      " 39  isd_ic                      653753 non-null  float64\n",
      " 40  ic_others                   653753 non-null  float64\n",
      " 41  total_rech_amt              653753 non-null  int64  \n",
      " 42  total_rech_data             443849 non-null  float64\n",
      " 43  vol_4g                      653753 non-null  float64\n",
      " 44  vol_5g                      653753 non-null  float64\n",
      " 45  arpu_5g                     653753 non-null  object \n",
      " 46  arpu_4g                     653753 non-null  object \n",
      " 47  arpu                        653753 non-null  float64\n",
      " 48  night_pck_user              280650 non-null  float64\n",
      " 49  fb_user                     243359 non-null  float64\n",
      " 50  aug_vbc_5g                  653753 non-null  float64\n",
      " 51  offer                       653753 non-null  object \n",
      " 52  Referred a Friend           653753 non-null  object \n",
      " 53  Number of Referrals         653753 non-null  float64\n",
      " 54  Phone Service               653753 non-null  object \n",
      " 55  Multiple Lines              653753 non-null  object \n",
      " 56  Internet Service            653753 non-null  object \n",
      " 57  Internet Type               436421 non-null  object \n",
      " 58  Streaming Data Consumption  653753 non-null  int64  \n",
      " 59  Online Security             653753 non-null  object \n",
      " 60  Online Backup               653753 non-null  object \n",
      " 61  Device Protection Plan      653753 non-null  object \n",
      " 62  Premium Tech Support        653753 non-null  object \n",
      " 63  Streaming TV                653753 non-null  object \n",
      " 64  Streaming Movies            653753 non-null  object \n",
      " 65  Streaming Music             653753 non-null  object \n",
      " 66  Unlimited Data              653753 non-null  object \n",
      " 67  Payment Method              653753 non-null  object \n",
      " 68  Status ID                   653753 non-null  object \n",
      " 69  Satisfaction Score          653753 non-null  int64  \n",
      " 70  Churn Category              653753 non-null  object \n",
      " 71  Churn Reason                653753 non-null  object \n",
      " 72  Customer Status             653753 non-null  object \n",
      " 73  Churn Value                 653753 non-null  int64  \n",
      "dtypes: float64(33), int64(9), object(32)\n",
      "memory usage: 369.1+ MB\n"
     ]
    }
   ],
   "source": [
    "df.info()"
   ]
  },
  {
   "cell_type": "code",
   "execution_count": 8,
   "metadata": {
    "id": "Uyb0dMULZ-2k",
    "outputId": "b1062bd9-8e17-4fc6-c663-5fb75902c6f0"
   },
   "outputs": [
    {
     "data": {
      "text/plain": [
       "Index(['Customer ID', 'Month', 'Month of Joining', 'zip_code', 'Gender', 'Age',\n",
       "       'Married', 'Dependents', 'Number of Dependents', 'Location ID',\n",
       "       'Service ID', 'state', 'county', 'timezone', 'area_codes', 'country',\n",
       "       'latitude', 'longitude', 'roam_ic', 'roam_og', 'loc_og_t2t',\n",
       "       'loc_og_t2m', 'loc_og_t2f', 'loc_og_t2c', 'std_og_t2t', 'std_og_t2m',\n",
       "       'std_og_t2f', 'std_og_t2c', 'isd_og', 'spl_og', 'og_others',\n",
       "       'loc_ic_t2t', 'loc_ic_t2m', 'loc_ic_t2f', 'std_ic_t2t', 'std_ic_t2m',\n",
       "       'std_ic_t2f', 'std_ic_t2o', 'spl_ic', 'isd_ic', 'ic_others',\n",
       "       'total_rech_amt', 'total_rech_data', 'vol_4g', 'vol_5g', 'arpu_5g',\n",
       "       'arpu_4g', 'arpu', 'night_pck_user', 'fb_user', 'aug_vbc_5g', 'offer',\n",
       "       'Referred a Friend', 'Number of Referrals', 'Phone Service',\n",
       "       'Multiple Lines', 'Internet Service', 'Internet Type',\n",
       "       'Streaming Data Consumption', 'Online Security', 'Online Backup',\n",
       "       'Device Protection Plan', 'Premium Tech Support', 'Streaming TV',\n",
       "       'Streaming Movies', 'Streaming Music', 'Unlimited Data',\n",
       "       'Payment Method', 'Status ID', 'Satisfaction Score', 'Churn Category',\n",
       "       'Churn Reason', 'Customer Status', 'Churn Value'],\n",
       "      dtype='object')"
      ]
     },
     "execution_count": 8,
     "metadata": {},
     "output_type": "execute_result"
    }
   ],
   "source": [
    "df.columns"
   ]
  },
  {
   "cell_type": "markdown",
   "metadata": {
    "id": "VXTBcfTrORWl"
   },
   "source": [
    "## **Data Dictionary**\n",
    "\n",
    "\n",
    "\n",
    "| Column name\t | Description|\n",
    "| ----- | ----- |\n",
    "| Customer ID\t | Unique identifier for each customer |\n",
    "| Month | Calendar Month- 1:12 | \n",
    "| Month of Joining |\tCalender Month -1:14, Month for which the data is captured|\n",
    "| zip_code |\tZip Code|\n",
    "|Gender |\tGender|\n",
    "| Age |\tAge(Years)|\n",
    "| Married |\tMarital Status |\n",
    "|Dependents | Dependents - Binary |\n",
    "| Number of Dependents |\tNumber of Dependents|\n",
    "|Location ID |\tLocation ID|\n",
    "|Service ID\t |Service ID|\n",
    "|state|\tState|\n",
    "|county\t|County|\n",
    "|timezone\t|Timezone|\n",
    "|area_codes|\tArea Code|\n",
    "|country\t|Country|\n",
    "|latitude|\tLatitude|\n",
    "|longitude\t|Longitude|\n",
    "|arpu|\tAverage revenue per user|\n",
    "|roam_ic\t|Roaming incoming calls in minutes|\n",
    "|roam_og\t|Roaming outgoing calls in minutes|\n",
    "|loc_og_t2t|\tLocal outgoing calls within same network in minutes|\n",
    "|loc_og_t2m\t|Local outgoing calls outside network in minutes(outside same + partner network)|\n",
    "|loc_og_t2f|\tLocal outgoing calls with Partner network in minutes|\n",
    "|loc_og_t2c\t|Local outgoing calls with Call Center in minutes|\n",
    "|std_og_t2t|\tSTD outgoing calls within same network in minutes|\n",
    "|std_og_t2m|\tSTD outgoing calls outside network in minutes(outside same + partner network)|\n",
    "|std_og_t2f|\tSTD outgoing calls with Partner network in minutes|\n",
    "|std_og_t2c\t|STD outgoing calls with Call Center in minutes|\n",
    "|isd_og|\tISD Outgoing calls|\n",
    "|spl_og\t|Special Outgoing calls|\n",
    "|og_others|\tOther Outgoing Calls|\n",
    "|loc_ic_t2t|\tLocal incoming calls within same network in minutes|\n",
    "|loc_ic_t2m|\tLocal incoming calls outside network in minutes(outside same + partner network)|\n",
    "|loc_ic_t2f\t|Local incoming calls with Partner network in minutes|\n",
    "|std_ic_t2t\t|STD incoming calls within same network in minutes|\n",
    "|std_ic_t2m\t|STD incoming calls outside network in minutes(outside same + partner network)|\n",
    "|std_ic_t2f|\tSTD incoming calls with Partner network in minutes|\n",
    "|std_ic_t2o|\tSTD incoming calls operators other networks in minutes|\n",
    "|spl_ic|\tSpecial Incoming calls in minutes|\n",
    "|isd_ic|\tISD Incoming calls in minutes|\n",
    "|ic_others|\tOther Incoming Calls|\n",
    "|total_rech_amt|\tTotal Recharge Amount in Local Currency|\n",
    "|total_rech_data|\tTotal Recharge Amount for Data in Local Currency\n",
    "|vol_4g|\t4G Internet Used in GB|\n",
    "|vol_5g|\t5G Internet used in GB|\n",
    "|arpu_5g|\tAverage revenue per user over 5G network|\n",
    "|arpu_4g|\tAverage revenue per user over 4G network|\n",
    "|night_pck_user|\tIs Night Pack User(Specific Scheme)|\n",
    "|fb_user|\tSocial Networking scheme|\n",
    "|aug_vbc_5g|\tVolume Based cost for 5G network (outside the scheme paid based on extra usage)|\n",
    "|offer|\tOffer Given to User|\n",
    "|Referred a Friend|\tReferred a Friend : Binary|\n",
    "|Number of Referrals|\tNumber of Referrals|\n",
    "|Phone Service|\tPhone Service: Binary|\n",
    "|Multiple Lines|\tMultiple Lines for phone service: Binary|\n",
    "|Internet Service|\tInternet Service: Binary|\n",
    "|Internet Type|\tInternet Type|\n",
    "|Streaming Data Consumption|\tStreaming Data Consumption|\n",
    "|Online Security|\tOnline Security|\n",
    "|Online Backup|\tOnline Backup|\n",
    "|Device Protection Plan|\tDevice Protection Plan|\n",
    "|Premium Tech Support|\tPremium Tech Support|\n",
    "|Streaming TV|\tStreaming TV|\n",
    "|Streaming Movies|\tStreaming Movies|\n",
    "|Streaming Music|\tStreaming Music|\n",
    "|Unlimited Data|\tUnlimited Data|\n",
    "|Payment Method|\tPayment Method|\n",
    "|Status ID|\tStatus ID|\n",
    "|Satisfaction Score|\tSatisfaction Score|\n",
    "|Churn Category|\tChurn Category|\n",
    "|Churn Reason|\tChurn Reason|\n",
    "|Customer Status|\tCustomer Status|\n",
    "|Churn Value|\tBinary Churn Value\n",
    "\n"
   ]
  },
  {
   "cell_type": "code",
   "execution_count": 9,
   "metadata": {
    "id": "CYI9w9ZQZ-2k",
    "outputId": "c86cad26-af70-4576-a9dc-8a57e304bc82"
   },
   "outputs": [
    {
     "data": {
      "text/plain": [
       "Customer ID           0\n",
       "Month                 0\n",
       "Month of Joining      0\n",
       "zip_code              0\n",
       "Gender                0\n",
       "                     ..\n",
       "Satisfaction Score    0\n",
       "Churn Category        0\n",
       "Churn Reason          0\n",
       "Customer Status       0\n",
       "Churn Value           0\n",
       "Length: 74, dtype: int64"
      ]
     },
     "execution_count": 9,
     "metadata": {},
     "output_type": "execute_result"
    }
   ],
   "source": [
    "df.isna().sum()"
   ]
  },
  {
   "cell_type": "code",
   "execution_count": 10,
   "metadata": {
    "id": "_P-B9TxjZ-2l",
    "outputId": "a1dca556-b0c6-4292-edb2-5ee1f7293325"
   },
   "outputs": [
    {
     "data": {
      "text/plain": [
       "209904"
      ]
     },
     "execution_count": 10,
     "metadata": {},
     "output_type": "execute_result"
    }
   ],
   "source": [
    "df['total_rech_data'].isna().sum()"
   ]
  },
  {
   "cell_type": "code",
   "execution_count": 11,
   "metadata": {
    "id": "zFPE07KUZ-2l",
    "outputId": "09b90153-2724-4faf-ffd7-d9540cf7de48"
   },
   "outputs": [
    {
     "data": {
      "text/plain": [
       "217332"
      ]
     },
     "execution_count": 11,
     "metadata": {},
     "output_type": "execute_result"
    }
   ],
   "source": [
    "df['Internet Type'].isna().sum()"
   ]
  },
  {
   "cell_type": "code",
   "execution_count": 12,
   "metadata": {
    "id": "20Xrd0RHZ-2l",
    "outputId": "0d715b22-e433-4087-f308-49c741ac242e"
   },
   "outputs": [
    {
     "data": {
      "text/plain": [
       "0.321075390858627"
      ]
     },
     "execution_count": 12,
     "metadata": {},
     "output_type": "execute_result"
    }
   ],
   "source": [
    "df['total_rech_data'].isna().sum()/df.shape[0]"
   ]
  },
  {
   "cell_type": "markdown",
   "metadata": {
    "id": "fmWVmQQXZ-2l"
   },
   "source": [
    "**Observation:**\n",
    "\n",
    "*  These missing values may represent customers who have not recharged their account or have recharged but the information has not been recorded.\n",
    "\n",
    "* It is possible that customers with missing recharge data are those who received free data service, and therefore did not need to recharge their account. Alternatively, it is possible that the missing values are due to technical issues, such as data recording errors or system failures."
   ]
  },
  {
   "cell_type": "code",
   "execution_count": 13,
   "metadata": {
    "id": "vvV6-BuZZ-2m",
    "outputId": "dedf9d49-79e2-42d3-d983-3f767b915de8"
   },
   "outputs": [
    {
     "data": {
      "text/plain": [
       "Yes    209904\n",
       "Name: Internet Service, dtype: int64"
      ]
     },
     "execution_count": 13,
     "metadata": {},
     "output_type": "execute_result"
    }
   ],
   "source": [
    "df[df['total_rech_data'].isna()]['Internet Service'].value_counts(dropna=False)"
   ]
  },
  {
   "cell_type": "markdown",
   "metadata": {
    "id": "rR2RpuGKZ-2m"
   },
   "source": [
    "**Observation**:\n",
    "\n",
    "* It turns out that all customers with missing recharge data have opted for internet service, the next step could be to check if they have used it or not."
   ]
  },
  {
   "cell_type": "code",
   "execution_count": 16,
   "metadata": {
    "id": "PBgsjUoPZ-2m",
    "outputId": "aa6246b9-4066-4422-b758-25c283ef8546"
   },
   "outputs": [
    {
     "data": {
      "text/plain": [
       "Yes    181040\n",
       "No      28864\n",
       "Name: Unlimited Data, dtype: int64"
      ]
     },
     "execution_count": 16,
     "metadata": {},
     "output_type": "execute_result"
    }
   ],
   "source": [
    "# unlimited data column\n",
    "\n",
    "df[(df['total_rech_data'].isna())]['Unlimited Data'].value_counts()"
   ]
  },
  {
   "cell_type": "code",
   "execution_count": 17,
   "metadata": {
    "id": "fVj27H0xZ-2m",
    "outputId": "15ef3fdf-b711-499d-d52f-db9e2d51b477"
   },
   "outputs": [
    {
     "data": {
      "text/plain": [
       "arpu_4g         arpu_5g       \n",
       "Not Applicable  Not Applicable    195182\n",
       "297.57          8530.983629            4\n",
       "544.17          8536.565906            3\n",
       "395.94          8533.210427            3\n",
       "290.09          8530.814304            3\n",
       "                                   ...  \n",
       "222.42          1468.94                1\n",
       "222.56          8529.28563             1\n",
       "222.67          8529.28812             1\n",
       "222.73          8529.289478            1\n",
       "2559.56         8582.188229            1\n",
       "Length: 14247, dtype: int64"
      ]
     },
     "execution_count": 17,
     "metadata": {},
     "output_type": "execute_result"
    }
   ],
   "source": [
    "# Average Revenue for 4g and 5g\n",
    "\n",
    "df[(df['total_rech_data'].isna())][['arpu_4g','arpu_5g']].value_counts()"
   ]
  },
  {
   "cell_type": "markdown",
   "metadata": {
    "id": "z--ECzlXZ-2m"
   },
   "source": [
    "**Observation**:\n",
    "\n",
    "* We can fill the missing values in the total_rech_data column with 0 when the arpu (Average Revenue Per User) is not applicable. This is because the arpu is a measure of the revenue generated per user, and if it is not applicable, it may indicate that the user is not generating any revenue for the company. In such cases, it is reasonable to assume that the total recharge amount is 0."
   ]
  },
  {
   "cell_type": "code",
   "execution_count": 18,
   "metadata": {
    "id": "HKsHAQQcZ-2n",
    "outputId": "8c982b59-e751-4ed1-8e8f-ca437e26f0af"
   },
   "outputs": [
    {
     "data": {
      "text/plain": [
       "arpu_4g         arpu_5g       \n",
       "Not Applicable  Not Applicable    195182\n",
       "0               0                 184117\n",
       "                63                 13024\n",
       "63              0                  12969\n",
       "254687          0                  10911\n",
       "                                   ...  \n",
       "192.88          566.93                 1\n",
       "192.89          274.15                 1\n",
       "                2848.71                1\n",
       "                648.54                 1\n",
       "2416.82         167.18                 1\n",
       "Length: 195845, dtype: int64"
      ]
     },
     "execution_count": 18,
     "metadata": {},
     "output_type": "execute_result"
    }
   ],
   "source": [
    "# The value counts of ARPU 4g and 5g\n",
    "df[['arpu_4g','arpu_5g']].value_counts()"
   ]
  },
  {
   "cell_type": "code",
   "execution_count": 19,
   "metadata": {
    "id": "XHibU4lcZ-2n"
   },
   "outputs": [],
   "source": [
    "# Replacing all values of total recharge data= 0 where arpu 4g and 5g are not applicable\n",
    "df.loc[(df['arpu_4g']=='Not Applicable') | (df['arpu_5g']=='Not Applicable'),'total_rech_data']=0"
   ]
  },
  {
   "cell_type": "code",
   "execution_count": 20,
   "metadata": {
    "id": "5ZywhbWfZ-2n",
    "outputId": "66d9b527-8b00-46ce-b36b-bd25ba1e8ded"
   },
   "outputs": [
    {
     "data": {
      "text/plain": [
       "0.022519208324856637"
      ]
     },
     "execution_count": 20,
     "metadata": {},
     "output_type": "execute_result"
    }
   ],
   "source": [
    "# Missing value percentage\n",
    "df['total_rech_data'].isna().sum()/df.shape[0]"
   ]
  },
  {
   "cell_type": "markdown",
   "metadata": {
    "id": "RvS-GOYdZ-2n"
   },
   "source": [
    "We cannot fill other values with 0 because they have some ARPU to consider."
   ]
  },
  {
   "cell_type": "code",
   "execution_count": 21,
   "metadata": {
    "id": "3xivTAuUZ-2n",
    "outputId": "db7a1b71-ca02-478f-eb06-751e1df76303"
   },
   "outputs": [
    {
     "data": {
      "text/plain": [
       "4.85274721808543"
      ]
     },
     "execution_count": 21,
     "metadata": {},
     "output_type": "execute_result"
    }
   ],
   "source": [
    "# Calculate the mean of 'total_rech_data' where either 'arpu_4g' or 'arpu_5g' is not equal to 'Not Applicable'\n",
    "df.loc[(df['arpu_4g']!='Not Applicable') | (df['arpu_5g']!='Not Applicable'),'total_rech_data'].mean()"
   ]
  },
  {
   "cell_type": "markdown",
   "metadata": {
    "id": "_5NNUYX8Z-2n"
   },
   "source": [
    "With this mean, we will fill the NaN values."
   ]
  },
  {
   "cell_type": "code",
   "execution_count": 22,
   "metadata": {
    "id": "ePxg16ZkZ-2n"
   },
   "outputs": [],
   "source": [
    "# Fill NaN values in 'total_rech_data' with the mean of 'total_rech_data' where either 'arpu_4g' or 'arpu_5g' is not equal to 'Not Applicable'\n",
    "df['total_rech_data']=df['total_rech_data'].fillna(df.loc[(df['arpu_4g']!='Not Applicable') | (df['arpu_5g']!='Not Applicable'),'total_rech_data'].mean())"
   ]
  },
  {
   "cell_type": "code",
   "execution_count": 23,
   "metadata": {
    "id": "2y8-hQOgZ-2n",
    "outputId": "73731371-748c-4dd8-a9f0-dab769c9d4e0"
   },
   "outputs": [
    {
     "data": {
      "text/plain": [
       "NaN            217332\n",
       "Fiber Optic    134991\n",
       "Cable          112100\n",
       "None           107918\n",
       "DSL             81412\n",
       "Name: Internet Type, dtype: int64"
      ]
     },
     "execution_count": 23,
     "metadata": {},
     "output_type": "execute_result"
    }
   ],
   "source": [
    "# Check the value counts for Internet Type\n",
    "df['Internet Type'].value_counts(dropna=False)"
   ]
  },
  {
   "cell_type": "code",
   "execution_count": 24,
   "metadata": {
    "id": "VojpiRlLZ-2o",
    "outputId": "423ee788-6a6a-447d-fa27-14efb280d6ce"
   },
   "outputs": [
    {
     "data": {
      "text/plain": [
       "No    217332\n",
       "Name: Internet Service, dtype: int64"
      ]
     },
     "execution_count": 24,
     "metadata": {},
     "output_type": "execute_result"
    }
   ],
   "source": [
    "# Check value counts for Internet Service where Internet Type is null\n",
    "df[df['Internet Type'].isna()]['Internet Service'].value_counts(dropna=False)"
   ]
  },
  {
   "cell_type": "markdown",
   "metadata": {
    "id": "xDvmPBoeZ-2o"
   },
   "source": [
    "All null values in Internet Type does not have Internet Service. Let's fill these null values with Not Applicable."
   ]
  },
  {
   "cell_type": "code",
   "execution_count": 25,
   "metadata": {
    "id": "YjmE5bcbZ-2o"
   },
   "outputs": [],
   "source": [
    "# Filling Null values in Internet Type \n",
    "df['Internet Type']=df['Internet Type'].fillna('Not Applicable')"
   ]
  },
  {
   "cell_type": "code",
   "execution_count": 26,
   "metadata": {
    "id": "BoezoPLWZ-2o",
    "outputId": "9efd88a7-4612-40ab-eaa0-24a7635e19ec"
   },
   "outputs": [
    {
     "data": {
      "text/plain": [
       "(653753, 74)"
      ]
     },
     "execution_count": 26,
     "metadata": {},
     "output_type": "execute_result"
    }
   ],
   "source": [
    "df.shape"
   ]
  },
  {
   "cell_type": "code",
   "execution_count": 115,
   "metadata": {
    "id": "WjO5_qGIZ-2o"
   },
   "outputs": [],
   "source": [
    "# Insert a new column named 'total_recharge2' before the last column in the dataframe \n",
    "# The values of 'total_recharge' are the sum of 'total_rech_amt' and 'total_rech_data'\n",
    "\n",
    "df.insert(loc=df.shape[1]-1,column='total_recharge2',value=df['total_rech_amt']+df['total_rech_data'])"
   ]
  },
  {
   "cell_type": "code",
   "execution_count": 30,
   "metadata": {
    "id": "wkQYshrQZ-2o",
    "outputId": "4940c1b4-7a6a-407a-d9a3-b8e76325466f"
   },
   "outputs": [
    {
     "data": {
      "text/html": [
       "<div>\n",
       "<style scoped>\n",
       "    .dataframe tbody tr th:only-of-type {\n",
       "        vertical-align: middle;\n",
       "    }\n",
       "\n",
       "    .dataframe tbody tr th {\n",
       "        vertical-align: top;\n",
       "    }\n",
       "\n",
       "    .dataframe thead th {\n",
       "        text-align: right;\n",
       "    }\n",
       "</style>\n",
       "<table border=\"1\" class=\"dataframe\">\n",
       "  <thead>\n",
       "    <tr style=\"text-align: right;\">\n",
       "      <th></th>\n",
       "      <th>null</th>\n",
       "    </tr>\n",
       "  </thead>\n",
       "  <tbody>\n",
       "    <tr>\n",
       "      <th>fb_user</th>\n",
       "      <td>62.78</td>\n",
       "    </tr>\n",
       "    <tr>\n",
       "      <th>night_pck_user</th>\n",
       "      <td>57.07</td>\n",
       "    </tr>\n",
       "    <tr>\n",
       "      <th>Customer ID</th>\n",
       "      <td>0.00</td>\n",
       "    </tr>\n",
       "    <tr>\n",
       "      <th>Internet Service</th>\n",
       "      <td>0.00</td>\n",
       "    </tr>\n",
       "    <tr>\n",
       "      <th>Phone Service</th>\n",
       "      <td>0.00</td>\n",
       "    </tr>\n",
       "    <tr>\n",
       "      <th>...</th>\n",
       "      <td>...</td>\n",
       "    </tr>\n",
       "    <tr>\n",
       "      <th>std_og_t2t</th>\n",
       "      <td>0.00</td>\n",
       "    </tr>\n",
       "    <tr>\n",
       "      <th>loc_og_t2c</th>\n",
       "      <td>0.00</td>\n",
       "    </tr>\n",
       "    <tr>\n",
       "      <th>loc_og_t2f</th>\n",
       "      <td>0.00</td>\n",
       "    </tr>\n",
       "    <tr>\n",
       "      <th>loc_og_t2m</th>\n",
       "      <td>0.00</td>\n",
       "    </tr>\n",
       "    <tr>\n",
       "      <th>Churn Value</th>\n",
       "      <td>0.00</td>\n",
       "    </tr>\n",
       "  </tbody>\n",
       "</table>\n",
       "<p>75 rows × 1 columns</p>\n",
       "</div>"
      ],
      "text/plain": [
       "                   null\n",
       "fb_user           62.78\n",
       "night_pck_user    57.07\n",
       "Customer ID        0.00\n",
       "Internet Service   0.00\n",
       "Phone Service      0.00\n",
       "...                 ...\n",
       "std_og_t2t         0.00\n",
       "loc_og_t2c         0.00\n",
       "loc_og_t2f         0.00\n",
       "loc_og_t2m         0.00\n",
       "Churn Value        0.00\n",
       "\n",
       "[75 rows x 1 columns]"
      ]
     },
     "execution_count": 30,
     "metadata": {},
     "output_type": "execute_result"
    }
   ],
   "source": [
    "# Checking percent of missing values in columns\n",
    "df_missing_columns = (round(((df.isnull().sum()/len(df.index))*100),2).to_frame('null')).sort_values('null', ascending=False)\n",
    "df_missing_columns"
   ]
  },
  {
   "cell_type": "markdown",
   "metadata": {
    "id": "iHK6wY6OZ-2o"
   },
   "source": [
    "Dropping some unnecessary columns!"
   ]
  },
  {
   "cell_type": "code",
   "execution_count": 31,
   "metadata": {
    "id": "PRayCzDDZ-2o"
   },
   "outputs": [],
   "source": [
    "df=df.drop(columns=['night_pck_user', 'fb_user','Churn Category','Churn Reason', 'Customer Status'])"
   ]
  },
  {
   "cell_type": "code",
   "execution_count": 32,
   "metadata": {
    "id": "kCVlehSCZ-2o",
    "outputId": "1603cc56-12b2-45d4-f538-b6f7bd8c3d34"
   },
   "outputs": [
    {
     "data": {
      "text/plain": [
       "4.57"
      ]
     },
     "execution_count": 32,
     "metadata": {},
     "output_type": "execute_result"
    }
   ],
   "source": [
    "round(100*(df['Churn Value'].mean()),2)"
   ]
  },
  {
   "cell_type": "code",
   "execution_count": 33,
   "metadata": {
    "id": "3d99fGw_Z-2p",
    "outputId": "21c70fea-cdc9-41e0-be0b-e260bcd7244c"
   },
   "outputs": [
    {
     "data": {
      "text/plain": [
       "1096"
      ]
     },
     "execution_count": 33,
     "metadata": {},
     "output_type": "execute_result"
    }
   ],
   "source": [
    "df['latitude'].nunique()"
   ]
  },
  {
   "cell_type": "code",
   "execution_count": 34,
   "metadata": {
    "id": "1cHkBum8Z-2p",
    "outputId": "3575ab63-3f7b-4235-8e2f-79301e2a16de"
   },
   "outputs": [
    {
     "data": {
      "text/plain": [
       "1368"
      ]
     },
     "execution_count": 34,
     "metadata": {},
     "output_type": "execute_result"
    }
   ],
   "source": [
    "df['longitude'].nunique()"
   ]
  },
  {
   "cell_type": "code",
   "execution_count": 35,
   "metadata": {
    "id": "74bP-j3tZ-2p"
   },
   "outputs": [],
   "source": [
    "# Replace 'Not Applicable' with 0 in 'arpu_4g'\n",
    "df['arpu_4g'] = df['arpu_4g'].replace('Not Applicable', 0)\n",
    "\n",
    "# Replace 'Not Applicable' with 0 in 'arpu_5g'\n",
    "df['arpu_5g'] = df['arpu_5g'].replace('Not Applicable', 0)\n",
    "\n",
    "# Convert 'arpu_4g' to float data type\n",
    "df['arpu_4g'] = df['arpu_4g'].astype(float)\n",
    "\n",
    "# Convert 'arpu_5g' to float data type\n",
    "df['arpu_5g'] = df['arpu_5g'].astype(float)\n"
   ]
  },
  {
   "cell_type": "code",
   "execution_count": 36,
   "metadata": {
    "id": "NypxsZ4JZ-2p",
    "outputId": "2ae94d49-c660-4465-d701-d51b5d0931fa"
   },
   "outputs": [
    {
     "data": {
      "text/plain": [
       "Customer ID            object\n",
       "Month                   int64\n",
       "Month of Joining        int64\n",
       "zip_code                int64\n",
       "Gender                 object\n",
       "                       ...   \n",
       "Payment Method         object\n",
       "Status ID              object\n",
       "Satisfaction Score      int64\n",
       "total_recharge        float64\n",
       "Churn Value             int64\n",
       "Length: 70, dtype: object"
      ]
     },
     "execution_count": 36,
     "metadata": {},
     "output_type": "execute_result"
    }
   ],
   "source": [
    "df.dtypes"
   ]
  },
  {
   "cell_type": "code",
   "execution_count": 37,
   "metadata": {
    "id": "-HS3WicKZ-2p"
   },
   "outputs": [],
   "source": [
    "# Note: We are keeping customer location-based attributes aside for now\n",
    "location_att=['zip_code''state', 'county', 'timezone', 'area_codes', 'country','latitude','longitude']\n",
    "\n",
    "# List of categorical columns\n",
    "categorical_cols=['Gender',\n",
    "       'Married', 'Dependents',\n",
    "       'offer','Referred a Friend', 'Phone Service',\n",
    "       'Multiple Lines', 'Internet Service', 'Internet Type',\n",
    "        'Online Security', 'Online Backup',\n",
    "       'Device Protection Plan', 'Premium Tech Support', 'Streaming TV',\n",
    "       'Streaming Movies', 'Streaming Music', 'Unlimited Data',\n",
    "       'Payment Method']\n",
    "\n",
    "# List of continuous columns\n",
    "cts_cols=['Age','Number of Dependents',\n",
    "       'roam_ic', 'roam_og', 'loc_og_t2t',\n",
    "       'loc_og_t2m', 'loc_og_t2f', 'loc_og_t2c', 'std_og_t2t', 'std_og_t2m',\n",
    "       'std_og_t2f', 'std_og_t2c', 'isd_og', 'spl_og', 'og_others',\n",
    "       'loc_ic_t2t', 'loc_ic_t2m', 'loc_ic_t2f', 'std_ic_t2t', 'std_ic_t2m',\n",
    "       'std_ic_t2f', 'std_ic_t2o', 'spl_ic', 'isd_ic', 'ic_others',\n",
    "       'total_rech_amt', 'total_rech_data', 'vol_4g', 'vol_5g', 'arpu_5g',\n",
    "       'arpu_4g', 'arpu', 'aug_vbc_5g', 'Number of Referrals','Satisfaction Score',\n",
    "       'Streaming Data Consumption']   \n",
    "\n"
   ]
  },
  {
   "cell_type": "code",
   "execution_count": 38,
   "metadata": {
    "id": "LqaJC1SzZ-2p"
   },
   "outputs": [],
   "source": [
    "# Create an empty dataframe with columns as cts_cols and index as quantiles\n",
    "quantile_df=pd.DataFrame(columns=cts_cols,index=[0.1,0.25,0.5,0.75,0.8,0.9,0.95,0.97,0.99])\n",
    "\n",
    "# for each column in cts_cols, calculate the corresponding quantiles and store them in the quantile_df\n",
    "for col in cts_cols:\n",
    "   quantile_df[col]=df[col].quantile([0.1,0.25,0.5,0.75,0.8,0.9,0.95,0.97,0.99])"
   ]
  },
  {
   "cell_type": "code",
   "execution_count": 39,
   "metadata": {
    "id": "fH6bWCegZ-2p",
    "outputId": "8ed6f768-73a7-4c99-c71c-fe22ca8abdd3"
   },
   "outputs": [
    {
     "data": {
      "text/html": [
       "<div>\n",
       "<style scoped>\n",
       "    .dataframe tbody tr th:only-of-type {\n",
       "        vertical-align: middle;\n",
       "    }\n",
       "\n",
       "    .dataframe tbody tr th {\n",
       "        vertical-align: top;\n",
       "    }\n",
       "\n",
       "    .dataframe thead th {\n",
       "        text-align: right;\n",
       "    }\n",
       "</style>\n",
       "<table border=\"1\" class=\"dataframe\">\n",
       "  <thead>\n",
       "    <tr style=\"text-align: right;\">\n",
       "      <th></th>\n",
       "      <th>Age</th>\n",
       "      <th>Number of Dependents</th>\n",
       "      <th>roam_ic</th>\n",
       "      <th>roam_og</th>\n",
       "      <th>loc_og_t2t</th>\n",
       "      <th>loc_og_t2m</th>\n",
       "      <th>loc_og_t2f</th>\n",
       "      <th>loc_og_t2c</th>\n",
       "      <th>std_og_t2t</th>\n",
       "      <th>std_og_t2m</th>\n",
       "      <th>std_og_t2f</th>\n",
       "      <th>std_og_t2c</th>\n",
       "      <th>isd_og</th>\n",
       "      <th>spl_og</th>\n",
       "      <th>og_others</th>\n",
       "      <th>loc_ic_t2t</th>\n",
       "      <th>loc_ic_t2m</th>\n",
       "      <th>loc_ic_t2f</th>\n",
       "      <th>std_ic_t2t</th>\n",
       "      <th>std_ic_t2m</th>\n",
       "      <th>std_ic_t2f</th>\n",
       "      <th>std_ic_t2o</th>\n",
       "      <th>spl_ic</th>\n",
       "      <th>isd_ic</th>\n",
       "      <th>ic_others</th>\n",
       "      <th>total_rech_amt</th>\n",
       "      <th>total_rech_data</th>\n",
       "      <th>vol_4g</th>\n",
       "      <th>vol_5g</th>\n",
       "      <th>arpu_5g</th>\n",
       "      <th>arpu_4g</th>\n",
       "      <th>arpu</th>\n",
       "      <th>aug_vbc_5g</th>\n",
       "      <th>Number of Referrals</th>\n",
       "      <th>Satisfaction Score</th>\n",
       "      <th>Streaming Data Consumption</th>\n",
       "    </tr>\n",
       "  </thead>\n",
       "  <tbody>\n",
       "    <tr>\n",
       "      <th>0.10</th>\n",
       "      <td>24.0</td>\n",
       "      <td>0.0</td>\n",
       "      <td>0.000000</td>\n",
       "      <td>0.000</td>\n",
       "      <td>0.0000</td>\n",
       "      <td>0.000000</td>\n",
       "      <td>0.000000</td>\n",
       "      <td>0.000000</td>\n",
       "      <td>0.000000</td>\n",
       "      <td>0.000000</td>\n",
       "      <td>0.00</td>\n",
       "      <td>0.0</td>\n",
       "      <td>0.000000</td>\n",
       "      <td>0.000000</td>\n",
       "      <td>0.0000</td>\n",
       "      <td>34.740000</td>\n",
       "      <td>33.790000</td>\n",
       "      <td>14.4600</td>\n",
       "      <td>16.950000</td>\n",
       "      <td>13.060000</td>\n",
       "      <td>5.030000</td>\n",
       "      <td>0.0</td>\n",
       "      <td>0.02</td>\n",
       "      <td>10.770000</td>\n",
       "      <td>8.100000</td>\n",
       "      <td>0.0</td>\n",
       "      <td>0.000000</td>\n",
       "      <td>0.0000</td>\n",
       "      <td>0.0000</td>\n",
       "      <td>0.000000</td>\n",
       "      <td>0.000000</td>\n",
       "      <td>-256.2000</td>\n",
       "      <td>0.0000</td>\n",
       "      <td>0.0</td>\n",
       "      <td>1.0</td>\n",
       "      <td>0.0</td>\n",
       "    </tr>\n",
       "    <tr>\n",
       "      <th>0.25</th>\n",
       "      <td>28.0</td>\n",
       "      <td>0.0</td>\n",
       "      <td>12.090000</td>\n",
       "      <td>14.710</td>\n",
       "      <td>32.7000</td>\n",
       "      <td>26.260000</td>\n",
       "      <td>1.460000</td>\n",
       "      <td>1.610000</td>\n",
       "      <td>33.120000</td>\n",
       "      <td>25.560000</td>\n",
       "      <td>1.20</td>\n",
       "      <td>0.0</td>\n",
       "      <td>3.250000</td>\n",
       "      <td>4.940000</td>\n",
       "      <td>3.4300</td>\n",
       "      <td>85.570000</td>\n",
       "      <td>84.170000</td>\n",
       "      <td>36.1100</td>\n",
       "      <td>42.460000</td>\n",
       "      <td>32.190000</td>\n",
       "      <td>12.460000</td>\n",
       "      <td>0.0</td>\n",
       "      <td>0.04</td>\n",
       "      <td>26.980000</td>\n",
       "      <td>20.330000</td>\n",
       "      <td>72.0</td>\n",
       "      <td>0.000000</td>\n",
       "      <td>0.0000</td>\n",
       "      <td>0.0000</td>\n",
       "      <td>0.000000</td>\n",
       "      <td>0.000000</td>\n",
       "      <td>118.9400</td>\n",
       "      <td>0.0000</td>\n",
       "      <td>0.0</td>\n",
       "      <td>3.0</td>\n",
       "      <td>2.0</td>\n",
       "    </tr>\n",
       "    <tr>\n",
       "      <th>0.50</th>\n",
       "      <td>34.0</td>\n",
       "      <td>0.0</td>\n",
       "      <td>50.560000</td>\n",
       "      <td>75.100</td>\n",
       "      <td>171.3300</td>\n",
       "      <td>135.460000</td>\n",
       "      <td>7.800000</td>\n",
       "      <td>8.180000</td>\n",
       "      <td>174.600000</td>\n",
       "      <td>134.800000</td>\n",
       "      <td>6.34</td>\n",
       "      <td>0.0</td>\n",
       "      <td>17.190000</td>\n",
       "      <td>25.580000</td>\n",
       "      <td>17.8300</td>\n",
       "      <td>171.490000</td>\n",
       "      <td>168.390000</td>\n",
       "      <td>72.0600</td>\n",
       "      <td>84.470000</td>\n",
       "      <td>64.760000</td>\n",
       "      <td>24.980000</td>\n",
       "      <td>0.0</td>\n",
       "      <td>0.08</td>\n",
       "      <td>53.700000</td>\n",
       "      <td>40.540000</td>\n",
       "      <td>374.0</td>\n",
       "      <td>0.000000</td>\n",
       "      <td>47.0100</td>\n",
       "      <td>362.3800</td>\n",
       "      <td>0.000000</td>\n",
       "      <td>0.000000</td>\n",
       "      <td>348.5400</td>\n",
       "      <td>117.3200</td>\n",
       "      <td>4.0</td>\n",
       "      <td>3.0</td>\n",
       "      <td>20.0</td>\n",
       "    </tr>\n",
       "    <tr>\n",
       "      <th>0.75</th>\n",
       "      <td>43.0</td>\n",
       "      <td>1.0</td>\n",
       "      <td>162.030000</td>\n",
       "      <td>135.280</td>\n",
       "      <td>309.0900</td>\n",
       "      <td>618.210000</td>\n",
       "      <td>14.090000</td>\n",
       "      <td>14.700000</td>\n",
       "      <td>316.240000</td>\n",
       "      <td>244.490000</td>\n",
       "      <td>36.64</td>\n",
       "      <td>0.0</td>\n",
       "      <td>31.140000</td>\n",
       "      <td>46.190000</td>\n",
       "      <td>106.7900</td>\n",
       "      <td>1259.270000</td>\n",
       "      <td>1090.065814</td>\n",
       "      <td>496.7900</td>\n",
       "      <td>126.270000</td>\n",
       "      <td>448.830000</td>\n",
       "      <td>186.710000</td>\n",
       "      <td>0.0</td>\n",
       "      <td>0.21</td>\n",
       "      <td>80.370000</td>\n",
       "      <td>60.730000</td>\n",
       "      <td>1089.0</td>\n",
       "      <td>2.000000</td>\n",
       "      <td>154.9000</td>\n",
       "      <td>964.7200</td>\n",
       "      <td>194.470000</td>\n",
       "      <td>228.220000</td>\n",
       "      <td>580.6500</td>\n",
       "      <td>311.7500</td>\n",
       "      <td>8.0</td>\n",
       "      <td>4.0</td>\n",
       "      <td>49.0</td>\n",
       "    </tr>\n",
       "    <tr>\n",
       "      <th>0.80</th>\n",
       "      <td>47.0</td>\n",
       "      <td>2.0</td>\n",
       "      <td>496.902000</td>\n",
       "      <td>146.820</td>\n",
       "      <td>856.7660</td>\n",
       "      <td>1392.937844</td>\n",
       "      <td>43.870000</td>\n",
       "      <td>15.970000</td>\n",
       "      <td>344.970000</td>\n",
       "      <td>266.540000</td>\n",
       "      <td>71.61</td>\n",
       "      <td>0.0</td>\n",
       "      <td>33.910000</td>\n",
       "      <td>50.240000</td>\n",
       "      <td>229.2600</td>\n",
       "      <td>1999.693293</td>\n",
       "      <td>1471.752357</td>\n",
       "      <td>653.0360</td>\n",
       "      <td>543.193515</td>\n",
       "      <td>633.989756</td>\n",
       "      <td>275.199406</td>\n",
       "      <td>0.0</td>\n",
       "      <td>0.33</td>\n",
       "      <td>384.863930</td>\n",
       "      <td>64.800000</td>\n",
       "      <td>2197.0</td>\n",
       "      <td>4.852747</td>\n",
       "      <td>176.3600</td>\n",
       "      <td>3814.2220</td>\n",
       "      <td>789.000000</td>\n",
       "      <td>783.290000</td>\n",
       "      <td>626.2300</td>\n",
       "      <td>350.4900</td>\n",
       "      <td>8.0</td>\n",
       "      <td>4.0</td>\n",
       "      <td>56.0</td>\n",
       "    </tr>\n",
       "    <tr>\n",
       "      <th>0.90</th>\n",
       "      <td>55.0</td>\n",
       "      <td>4.0</td>\n",
       "      <td>969.043806</td>\n",
       "      <td>689.598</td>\n",
       "      <td>3613.9960</td>\n",
       "      <td>2644.568000</td>\n",
       "      <td>126.593474</td>\n",
       "      <td>109.097149</td>\n",
       "      <td>1547.136000</td>\n",
       "      <td>1007.842370</td>\n",
       "      <td>143.14</td>\n",
       "      <td>0.0</td>\n",
       "      <td>113.178996</td>\n",
       "      <td>372.784695</td>\n",
       "      <td>382.7180</td>\n",
       "      <td>2974.581617</td>\n",
       "      <td>2424.826000</td>\n",
       "      <td>1198.6440</td>\n",
       "      <td>1525.978000</td>\n",
       "      <td>1030.569644</td>\n",
       "      <td>466.868000</td>\n",
       "      <td>0.0</td>\n",
       "      <td>0.71</td>\n",
       "      <td>1102.719792</td>\n",
       "      <td>532.378638</td>\n",
       "      <td>7013.0</td>\n",
       "      <td>14.000000</td>\n",
       "      <td>219.2680</td>\n",
       "      <td>12369.5160</td>\n",
       "      <td>2219.752000</td>\n",
       "      <td>2224.100000</td>\n",
       "      <td>1901.5140</td>\n",
       "      <td>789.0000</td>\n",
       "      <td>10.0</td>\n",
       "      <td>5.0</td>\n",
       "      <td>69.0</td>\n",
       "    </tr>\n",
       "    <tr>\n",
       "      <th>0.95</th>\n",
       "      <td>61.0</td>\n",
       "      <td>7.0</td>\n",
       "      <td>1283.198000</td>\n",
       "      <td>1954.392</td>\n",
       "      <td>5079.8300</td>\n",
       "      <td>3479.438000</td>\n",
       "      <td>183.490000</td>\n",
       "      <td>207.514000</td>\n",
       "      <td>3953.108671</td>\n",
       "      <td>3108.617986</td>\n",
       "      <td>171.80</td>\n",
       "      <td>0.0</td>\n",
       "      <td>319.283936</td>\n",
       "      <td>470.114614</td>\n",
       "      <td>489.7000</td>\n",
       "      <td>3719.724000</td>\n",
       "      <td>3166.758000</td>\n",
       "      <td>1462.3020</td>\n",
       "      <td>2022.070000</td>\n",
       "      <td>1360.444000</td>\n",
       "      <td>569.740000</td>\n",
       "      <td>0.0</td>\n",
       "      <td>1.27</td>\n",
       "      <td>1443.993611</td>\n",
       "      <td>914.270000</td>\n",
       "      <td>9369.0</td>\n",
       "      <td>23.000000</td>\n",
       "      <td>663.2040</td>\n",
       "      <td>17358.4180</td>\n",
       "      <td>8530.865147</td>\n",
       "      <td>8675.302558</td>\n",
       "      <td>5892.6180</td>\n",
       "      <td>3943.2100</td>\n",
       "      <td>11.0</td>\n",
       "      <td>5.0</td>\n",
       "      <td>77.0</td>\n",
       "    </tr>\n",
       "    <tr>\n",
       "      <th>0.97</th>\n",
       "      <td>64.0</td>\n",
       "      <td>8.0</td>\n",
       "      <td>1494.043200</td>\n",
       "      <td>2550.390</td>\n",
       "      <td>5806.0544</td>\n",
       "      <td>3756.444400</td>\n",
       "      <td>206.750000</td>\n",
       "      <td>277.344400</td>\n",
       "      <td>5344.123200</td>\n",
       "      <td>3848.301590</td>\n",
       "      <td>188.88</td>\n",
       "      <td>0.0</td>\n",
       "      <td>394.210000</td>\n",
       "      <td>518.403569</td>\n",
       "      <td>531.5744</td>\n",
       "      <td>3911.517600</td>\n",
       "      <td>3468.838800</td>\n",
       "      <td>1657.1832</td>\n",
       "      <td>2145.504400</td>\n",
       "      <td>1476.410000</td>\n",
       "      <td>594.000000</td>\n",
       "      <td>0.0</td>\n",
       "      <td>1.75</td>\n",
       "      <td>1554.884400</td>\n",
       "      <td>1212.837600</td>\n",
       "      <td>10492.0</td>\n",
       "      <td>26.000000</td>\n",
       "      <td>1438.5100</td>\n",
       "      <td>19569.9704</td>\n",
       "      <td>8724.440600</td>\n",
       "      <td>8839.721689</td>\n",
       "      <td>7592.5688</td>\n",
       "      <td>5949.3792</td>\n",
       "      <td>11.0</td>\n",
       "      <td>5.0</td>\n",
       "      <td>80.0</td>\n",
       "    </tr>\n",
       "    <tr>\n",
       "      <th>0.99</th>\n",
       "      <td>74.0</td>\n",
       "      <td>9.0</td>\n",
       "      <td>1646.899600</td>\n",
       "      <td>3041.760</td>\n",
       "      <td>6191.2040</td>\n",
       "      <td>4060.298800</td>\n",
       "      <td>257.650000</td>\n",
       "      <td>311.464800</td>\n",
       "      <td>6729.403200</td>\n",
       "      <td>4875.216400</td>\n",
       "      <td>208.18</td>\n",
       "      <td>0.0</td>\n",
       "      <td>637.009600</td>\n",
       "      <td>836.140000</td>\n",
       "      <td>579.3748</td>\n",
       "      <td>4200.448800</td>\n",
       "      <td>3679.364400</td>\n",
       "      <td>1792.9848</td>\n",
       "      <td>2434.554800</td>\n",
       "      <td>1571.760000</td>\n",
       "      <td>639.000000</td>\n",
       "      <td>0.0</td>\n",
       "      <td>2.19</td>\n",
       "      <td>1601.920000</td>\n",
       "      <td>1317.510000</td>\n",
       "      <td>11367.0</td>\n",
       "      <td>30.000000</td>\n",
       "      <td>4289.8496</td>\n",
       "      <td>254687.0000</td>\n",
       "      <td>254687.000000</td>\n",
       "      <td>254687.000000</td>\n",
       "      <td>8846.9584</td>\n",
       "      <td>7366.7684</td>\n",
       "      <td>11.0</td>\n",
       "      <td>5.0</td>\n",
       "      <td>83.0</td>\n",
       "    </tr>\n",
       "  </tbody>\n",
       "</table>\n",
       "</div>"
      ],
      "text/plain": [
       "       Age  Number of Dependents      roam_ic   roam_og  loc_og_t2t  \\\n",
       "0.10  24.0                   0.0     0.000000     0.000      0.0000   \n",
       "0.25  28.0                   0.0    12.090000    14.710     32.7000   \n",
       "0.50  34.0                   0.0    50.560000    75.100    171.3300   \n",
       "0.75  43.0                   1.0   162.030000   135.280    309.0900   \n",
       "0.80  47.0                   2.0   496.902000   146.820    856.7660   \n",
       "0.90  55.0                   4.0   969.043806   689.598   3613.9960   \n",
       "0.95  61.0                   7.0  1283.198000  1954.392   5079.8300   \n",
       "0.97  64.0                   8.0  1494.043200  2550.390   5806.0544   \n",
       "0.99  74.0                   9.0  1646.899600  3041.760   6191.2040   \n",
       "\n",
       "       loc_og_t2m  loc_og_t2f  loc_og_t2c   std_og_t2t   std_og_t2m  \\\n",
       "0.10     0.000000    0.000000    0.000000     0.000000     0.000000   \n",
       "0.25    26.260000    1.460000    1.610000    33.120000    25.560000   \n",
       "0.50   135.460000    7.800000    8.180000   174.600000   134.800000   \n",
       "0.75   618.210000   14.090000   14.700000   316.240000   244.490000   \n",
       "0.80  1392.937844   43.870000   15.970000   344.970000   266.540000   \n",
       "0.90  2644.568000  126.593474  109.097149  1547.136000  1007.842370   \n",
       "0.95  3479.438000  183.490000  207.514000  3953.108671  3108.617986   \n",
       "0.97  3756.444400  206.750000  277.344400  5344.123200  3848.301590   \n",
       "0.99  4060.298800  257.650000  311.464800  6729.403200  4875.216400   \n",
       "\n",
       "      std_og_t2f  std_og_t2c      isd_og      spl_og  og_others   loc_ic_t2t  \\\n",
       "0.10        0.00         0.0    0.000000    0.000000     0.0000    34.740000   \n",
       "0.25        1.20         0.0    3.250000    4.940000     3.4300    85.570000   \n",
       "0.50        6.34         0.0   17.190000   25.580000    17.8300   171.490000   \n",
       "0.75       36.64         0.0   31.140000   46.190000   106.7900  1259.270000   \n",
       "0.80       71.61         0.0   33.910000   50.240000   229.2600  1999.693293   \n",
       "0.90      143.14         0.0  113.178996  372.784695   382.7180  2974.581617   \n",
       "0.95      171.80         0.0  319.283936  470.114614   489.7000  3719.724000   \n",
       "0.97      188.88         0.0  394.210000  518.403569   531.5744  3911.517600   \n",
       "0.99      208.18         0.0  637.009600  836.140000   579.3748  4200.448800   \n",
       "\n",
       "       loc_ic_t2m  loc_ic_t2f   std_ic_t2t   std_ic_t2m  std_ic_t2f  \\\n",
       "0.10    33.790000     14.4600    16.950000    13.060000    5.030000   \n",
       "0.25    84.170000     36.1100    42.460000    32.190000   12.460000   \n",
       "0.50   168.390000     72.0600    84.470000    64.760000   24.980000   \n",
       "0.75  1090.065814    496.7900   126.270000   448.830000  186.710000   \n",
       "0.80  1471.752357    653.0360   543.193515   633.989756  275.199406   \n",
       "0.90  2424.826000   1198.6440  1525.978000  1030.569644  466.868000   \n",
       "0.95  3166.758000   1462.3020  2022.070000  1360.444000  569.740000   \n",
       "0.97  3468.838800   1657.1832  2145.504400  1476.410000  594.000000   \n",
       "0.99  3679.364400   1792.9848  2434.554800  1571.760000  639.000000   \n",
       "\n",
       "      std_ic_t2o  spl_ic       isd_ic    ic_others  total_rech_amt  \\\n",
       "0.10         0.0    0.02    10.770000     8.100000             0.0   \n",
       "0.25         0.0    0.04    26.980000    20.330000            72.0   \n",
       "0.50         0.0    0.08    53.700000    40.540000           374.0   \n",
       "0.75         0.0    0.21    80.370000    60.730000          1089.0   \n",
       "0.80         0.0    0.33   384.863930    64.800000          2197.0   \n",
       "0.90         0.0    0.71  1102.719792   532.378638          7013.0   \n",
       "0.95         0.0    1.27  1443.993611   914.270000          9369.0   \n",
       "0.97         0.0    1.75  1554.884400  1212.837600         10492.0   \n",
       "0.99         0.0    2.19  1601.920000  1317.510000         11367.0   \n",
       "\n",
       "      total_rech_data     vol_4g       vol_5g        arpu_5g        arpu_4g  \\\n",
       "0.10         0.000000     0.0000       0.0000       0.000000       0.000000   \n",
       "0.25         0.000000     0.0000       0.0000       0.000000       0.000000   \n",
       "0.50         0.000000    47.0100     362.3800       0.000000       0.000000   \n",
       "0.75         2.000000   154.9000     964.7200     194.470000     228.220000   \n",
       "0.80         4.852747   176.3600    3814.2220     789.000000     783.290000   \n",
       "0.90        14.000000   219.2680   12369.5160    2219.752000    2224.100000   \n",
       "0.95        23.000000   663.2040   17358.4180    8530.865147    8675.302558   \n",
       "0.97        26.000000  1438.5100   19569.9704    8724.440600    8839.721689   \n",
       "0.99        30.000000  4289.8496  254687.0000  254687.000000  254687.000000   \n",
       "\n",
       "           arpu  aug_vbc_5g  Number of Referrals  Satisfaction Score  \\\n",
       "0.10  -256.2000      0.0000                  0.0                 1.0   \n",
       "0.25   118.9400      0.0000                  0.0                 3.0   \n",
       "0.50   348.5400    117.3200                  4.0                 3.0   \n",
       "0.75   580.6500    311.7500                  8.0                 4.0   \n",
       "0.80   626.2300    350.4900                  8.0                 4.0   \n",
       "0.90  1901.5140    789.0000                 10.0                 5.0   \n",
       "0.95  5892.6180   3943.2100                 11.0                 5.0   \n",
       "0.97  7592.5688   5949.3792                 11.0                 5.0   \n",
       "0.99  8846.9584   7366.7684                 11.0                 5.0   \n",
       "\n",
       "      Streaming Data Consumption  \n",
       "0.10                         0.0  \n",
       "0.25                         2.0  \n",
       "0.50                        20.0  \n",
       "0.75                        49.0  \n",
       "0.80                        56.0  \n",
       "0.90                        69.0  \n",
       "0.95                        77.0  \n",
       "0.97                        80.0  \n",
       "0.99                        83.0  "
      ]
     },
     "execution_count": 39,
     "metadata": {},
     "output_type": "execute_result"
    }
   ],
   "source": [
    "quantile_df"
   ]
  },
  {
   "cell_type": "markdown",
   "metadata": {
    "id": "uqnLtZs1Z-2p"
   },
   "source": [
    "Outliers were detected in the variables vol_5g, arpu_4g, and arpu_5g."
   ]
  },
  {
   "cell_type": "code",
   "execution_count": 40,
   "metadata": {
    "id": "U6NQZsd3Z-2q",
    "outputId": "38bb54e5-ed40-4a05-f29b-655ae1544e25"
   },
   "outputs": [
    {
     "data": {
      "text/plain": [
       "0.750       228.220000\n",
       "0.800       783.290000\n",
       "0.900      2224.100000\n",
       "0.950      8675.302558\n",
       "0.970      8839.721689\n",
       "0.990    254687.000000\n",
       "0.999    254687.000000\n",
       "Name: arpu_4g, dtype: float64"
      ]
     },
     "execution_count": 40,
     "metadata": {},
     "output_type": "execute_result"
    }
   ],
   "source": [
    "df['arpu_4g'].quantile([0.75,0.8,0.9,0.95,0.97,0.99,0.999])"
   ]
  },
  {
   "cell_type": "code",
   "execution_count": 41,
   "metadata": {
    "id": "Bcx5-kVNZ-2q",
    "outputId": "025b06d2-46ae-45c2-e63b-40e810bb416e"
   },
   "outputs": [
    {
     "data": {
      "text/plain": [
       "0.019651152652454366"
      ]
     },
     "execution_count": 41,
     "metadata": {},
     "output_type": "execute_result"
    }
   ],
   "source": [
    "# Calculate the proportion of rows in the DataFrame where the value in the 'arpu_4g' column is equal to 254687\n",
    "df[df['arpu_4g']==254687].shape[0]/df.shape[0]"
   ]
  },
  {
   "cell_type": "code",
   "execution_count": 42,
   "metadata": {
    "id": "YJjw0lS5Z-2q",
    "outputId": "1db27add-bcf1-4a9c-d84d-a1c77fd25f44"
   },
   "outputs": [
    {
     "data": {
      "text/html": [
       "<div>\n",
       "<style scoped>\n",
       "    .dataframe tbody tr th:only-of-type {\n",
       "        vertical-align: middle;\n",
       "    }\n",
       "\n",
       "    .dataframe tbody tr th {\n",
       "        vertical-align: top;\n",
       "    }\n",
       "\n",
       "    .dataframe thead th {\n",
       "        text-align: right;\n",
       "    }\n",
       "</style>\n",
       "<table border=\"1\" class=\"dataframe\">\n",
       "  <thead>\n",
       "    <tr style=\"text-align: right;\">\n",
       "      <th></th>\n",
       "      <th>Customer ID</th>\n",
       "      <th>Month</th>\n",
       "      <th>Month of Joining</th>\n",
       "      <th>zip_code</th>\n",
       "      <th>Gender</th>\n",
       "      <th>Age</th>\n",
       "      <th>Married</th>\n",
       "      <th>Dependents</th>\n",
       "      <th>Number of Dependents</th>\n",
       "      <th>Location ID</th>\n",
       "      <th>Service ID</th>\n",
       "      <th>state</th>\n",
       "      <th>county</th>\n",
       "      <th>timezone</th>\n",
       "      <th>area_codes</th>\n",
       "      <th>country</th>\n",
       "      <th>latitude</th>\n",
       "      <th>longitude</th>\n",
       "      <th>roam_ic</th>\n",
       "      <th>roam_og</th>\n",
       "      <th>loc_og_t2t</th>\n",
       "      <th>loc_og_t2m</th>\n",
       "      <th>loc_og_t2f</th>\n",
       "      <th>loc_og_t2c</th>\n",
       "      <th>std_og_t2t</th>\n",
       "      <th>std_og_t2m</th>\n",
       "      <th>std_og_t2f</th>\n",
       "      <th>std_og_t2c</th>\n",
       "      <th>isd_og</th>\n",
       "      <th>spl_og</th>\n",
       "      <th>og_others</th>\n",
       "      <th>loc_ic_t2t</th>\n",
       "      <th>loc_ic_t2m</th>\n",
       "      <th>loc_ic_t2f</th>\n",
       "      <th>std_ic_t2t</th>\n",
       "      <th>std_ic_t2m</th>\n",
       "      <th>std_ic_t2f</th>\n",
       "      <th>std_ic_t2o</th>\n",
       "      <th>spl_ic</th>\n",
       "      <th>isd_ic</th>\n",
       "      <th>ic_others</th>\n",
       "      <th>total_rech_amt</th>\n",
       "      <th>total_rech_data</th>\n",
       "      <th>vol_4g</th>\n",
       "      <th>vol_5g</th>\n",
       "      <th>arpu_5g</th>\n",
       "      <th>arpu_4g</th>\n",
       "      <th>arpu</th>\n",
       "      <th>aug_vbc_5g</th>\n",
       "      <th>offer</th>\n",
       "      <th>Referred a Friend</th>\n",
       "      <th>Number of Referrals</th>\n",
       "      <th>Phone Service</th>\n",
       "      <th>Multiple Lines</th>\n",
       "      <th>Internet Service</th>\n",
       "      <th>Internet Type</th>\n",
       "      <th>Streaming Data Consumption</th>\n",
       "      <th>Online Security</th>\n",
       "      <th>Online Backup</th>\n",
       "      <th>Device Protection Plan</th>\n",
       "      <th>Premium Tech Support</th>\n",
       "      <th>Streaming TV</th>\n",
       "      <th>Streaming Movies</th>\n",
       "      <th>Streaming Music</th>\n",
       "      <th>Unlimited Data</th>\n",
       "      <th>Payment Method</th>\n",
       "      <th>Status ID</th>\n",
       "      <th>Satisfaction Score</th>\n",
       "      <th>total_recharge</th>\n",
       "      <th>Churn Value</th>\n",
       "    </tr>\n",
       "  </thead>\n",
       "  <tbody>\n",
       "    <tr>\n",
       "      <th>9</th>\n",
       "      <td>uqdtniwvxqzeu1</td>\n",
       "      <td>14</td>\n",
       "      <td>6</td>\n",
       "      <td>72566</td>\n",
       "      <td>Male</td>\n",
       "      <td>36.276942</td>\n",
       "      <td>No</td>\n",
       "      <td>No</td>\n",
       "      <td>0.0</td>\n",
       "      <td>qcvetdmalnkw1</td>\n",
       "      <td>tkqnsqflrdatnqapsh1</td>\n",
       "      <td>AR</td>\n",
       "      <td>Izard County</td>\n",
       "      <td>America/Chicago</td>\n",
       "      <td>870</td>\n",
       "      <td>US</td>\n",
       "      <td>36.22</td>\n",
       "      <td>-92.08</td>\n",
       "      <td>1582.05</td>\n",
       "      <td>157.20</td>\n",
       "      <td>161.810000</td>\n",
       "      <td>1827.38</td>\n",
       "      <td>39.790000</td>\n",
       "      <td>1.00</td>\n",
       "      <td>1362.59</td>\n",
       "      <td>5267.31</td>\n",
       "      <td>171.81</td>\n",
       "      <td>0</td>\n",
       "      <td>390.32</td>\n",
       "      <td>24.940000</td>\n",
       "      <td>511.23</td>\n",
       "      <td>2128.610000</td>\n",
       "      <td>2896.11</td>\n",
       "      <td>54.41</td>\n",
       "      <td>100.540000</td>\n",
       "      <td>585.44</td>\n",
       "      <td>162.70</td>\n",
       "      <td>0</td>\n",
       "      <td>0.11</td>\n",
       "      <td>10.460000</td>\n",
       "      <td>1247.37</td>\n",
       "      <td>255</td>\n",
       "      <td>0.0</td>\n",
       "      <td>0.0</td>\n",
       "      <td>0.0</td>\n",
       "      <td>254687.0</td>\n",
       "      <td>254687.0</td>\n",
       "      <td>1330.04</td>\n",
       "      <td>0.0</td>\n",
       "      <td>No Offer</td>\n",
       "      <td>Yes</td>\n",
       "      <td>9.0</td>\n",
       "      <td>Yes</td>\n",
       "      <td>No</td>\n",
       "      <td>No</td>\n",
       "      <td>Not Applicable</td>\n",
       "      <td>74</td>\n",
       "      <td>No</td>\n",
       "      <td>No</td>\n",
       "      <td>Yes</td>\n",
       "      <td>No</td>\n",
       "      <td>Yes</td>\n",
       "      <td>No</td>\n",
       "      <td>No</td>\n",
       "      <td>No</td>\n",
       "      <td>Credit Card</td>\n",
       "      <td>inebwpymzwpup39698</td>\n",
       "      <td>4</td>\n",
       "      <td>255.0</td>\n",
       "      <td>0</td>\n",
       "    </tr>\n",
       "    <tr>\n",
       "      <th>86</th>\n",
       "      <td>ucpurmfkdlnwi18</td>\n",
       "      <td>13</td>\n",
       "      <td>12</td>\n",
       "      <td>71747</td>\n",
       "      <td>Female</td>\n",
       "      <td>20.000000</td>\n",
       "      <td>Yes</td>\n",
       "      <td>No</td>\n",
       "      <td>0.0</td>\n",
       "      <td>rqiqguxisfoc18</td>\n",
       "      <td>dkupusivpzrazcfsdi18</td>\n",
       "      <td>AR</td>\n",
       "      <td>Union County</td>\n",
       "      <td>America/Chicago</td>\n",
       "      <td>870</td>\n",
       "      <td>US</td>\n",
       "      <td>33.04</td>\n",
       "      <td>-92.18</td>\n",
       "      <td>18.63</td>\n",
       "      <td>31.29</td>\n",
       "      <td>2894.400061</td>\n",
       "      <td>834.78</td>\n",
       "      <td>209.170000</td>\n",
       "      <td>9.59</td>\n",
       "      <td>177.64</td>\n",
       "      <td>116.17</td>\n",
       "      <td>120.34</td>\n",
       "      <td>0</td>\n",
       "      <td>14.74</td>\n",
       "      <td>439.430599</td>\n",
       "      <td>100.81</td>\n",
       "      <td>156.270000</td>\n",
       "      <td>254.19</td>\n",
       "      <td>29.68</td>\n",
       "      <td>998.844996</td>\n",
       "      <td>24.13</td>\n",
       "      <td>12.62</td>\n",
       "      <td>0</td>\n",
       "      <td>0.29</td>\n",
       "      <td>795.053477</td>\n",
       "      <td>5.06</td>\n",
       "      <td>8462</td>\n",
       "      <td>0.0</td>\n",
       "      <td>0.0</td>\n",
       "      <td>254687.0</td>\n",
       "      <td>0.0</td>\n",
       "      <td>254687.0</td>\n",
       "      <td>160.07</td>\n",
       "      <td>0.0</td>\n",
       "      <td>No Offer</td>\n",
       "      <td>Yes</td>\n",
       "      <td>6.0</td>\n",
       "      <td>Yes</td>\n",
       "      <td>Yes</td>\n",
       "      <td>No</td>\n",
       "      <td>Not Applicable</td>\n",
       "      <td>0</td>\n",
       "      <td>No</td>\n",
       "      <td>No</td>\n",
       "      <td>No</td>\n",
       "      <td>Yes</td>\n",
       "      <td>No</td>\n",
       "      <td>No</td>\n",
       "      <td>No</td>\n",
       "      <td>No</td>\n",
       "      <td>Bank Withdrawal</td>\n",
       "      <td>usfobpyxwqrkg27554</td>\n",
       "      <td>5</td>\n",
       "      <td>8462.0</td>\n",
       "      <td>0</td>\n",
       "    </tr>\n",
       "    <tr>\n",
       "      <th>103</th>\n",
       "      <td>sirifvlkipkel21</td>\n",
       "      <td>13</td>\n",
       "      <td>11</td>\n",
       "      <td>92865</td>\n",
       "      <td>Female</td>\n",
       "      <td>40.000000</td>\n",
       "      <td>Yes</td>\n",
       "      <td>No</td>\n",
       "      <td>0.0</td>\n",
       "      <td>jobplwgowgko21</td>\n",
       "      <td>zmuwwsnfbwxxdxzuvz21</td>\n",
       "      <td>CA</td>\n",
       "      <td>Orange County</td>\n",
       "      <td>America/Los_Angeles</td>\n",
       "      <td>714</td>\n",
       "      <td>US</td>\n",
       "      <td>33.83</td>\n",
       "      <td>-117.85</td>\n",
       "      <td>26.04</td>\n",
       "      <td>72.49</td>\n",
       "      <td>111.050000</td>\n",
       "      <td>1.87</td>\n",
       "      <td>6.890000</td>\n",
       "      <td>4.83</td>\n",
       "      <td>11.50</td>\n",
       "      <td>134.28</td>\n",
       "      <td>6.71</td>\n",
       "      <td>0</td>\n",
       "      <td>31.44</td>\n",
       "      <td>6.230000</td>\n",
       "      <td>2.70</td>\n",
       "      <td>171.280000</td>\n",
       "      <td>167.16</td>\n",
       "      <td>15.18</td>\n",
       "      <td>54.880000</td>\n",
       "      <td>64.06</td>\n",
       "      <td>31.83</td>\n",
       "      <td>0</td>\n",
       "      <td>0.01</td>\n",
       "      <td>41.910000</td>\n",
       "      <td>61.24</td>\n",
       "      <td>417</td>\n",
       "      <td>0.0</td>\n",
       "      <td>0.0</td>\n",
       "      <td>63.0</td>\n",
       "      <td>0.0</td>\n",
       "      <td>254687.0</td>\n",
       "      <td>478.77</td>\n",
       "      <td>0.0</td>\n",
       "      <td>No Offer</td>\n",
       "      <td>Yes</td>\n",
       "      <td>0.0</td>\n",
       "      <td>Yes</td>\n",
       "      <td>Yes</td>\n",
       "      <td>No</td>\n",
       "      <td>Not Applicable</td>\n",
       "      <td>56</td>\n",
       "      <td>No</td>\n",
       "      <td>Yes</td>\n",
       "      <td>Yes</td>\n",
       "      <td>No</td>\n",
       "      <td>Yes</td>\n",
       "      <td>Yes</td>\n",
       "      <td>Yes</td>\n",
       "      <td>No</td>\n",
       "      <td>Credit Card</td>\n",
       "      <td>cullucfodcpbc24549</td>\n",
       "      <td>3</td>\n",
       "      <td>417.0</td>\n",
       "      <td>0</td>\n",
       "    </tr>\n",
       "    <tr>\n",
       "      <th>112</th>\n",
       "      <td>dnnrchjlmrylq24</td>\n",
       "      <td>14</td>\n",
       "      <td>9</td>\n",
       "      <td>91423</td>\n",
       "      <td>Female</td>\n",
       "      <td>48.000000</td>\n",
       "      <td>Yes</td>\n",
       "      <td>Yes</td>\n",
       "      <td>0.0</td>\n",
       "      <td>vxainqiqplai24</td>\n",
       "      <td>liroqcvpdnrzdyolqw24</td>\n",
       "      <td>CA</td>\n",
       "      <td>Los Angeles County</td>\n",
       "      <td>America/Los_Angeles</td>\n",
       "      <td>2.13E+17</td>\n",
       "      <td>US</td>\n",
       "      <td>34.14</td>\n",
       "      <td>-118.42</td>\n",
       "      <td>0.00</td>\n",
       "      <td>0.00</td>\n",
       "      <td>0.000000</td>\n",
       "      <td>0.00</td>\n",
       "      <td>0.000000</td>\n",
       "      <td>0.00</td>\n",
       "      <td>0.00</td>\n",
       "      <td>0.00</td>\n",
       "      <td>0.00</td>\n",
       "      <td>0</td>\n",
       "      <td>0.00</td>\n",
       "      <td>0.000000</td>\n",
       "      <td>0.00</td>\n",
       "      <td>149.180000</td>\n",
       "      <td>2769.19</td>\n",
       "      <td>207.23</td>\n",
       "      <td>33.720000</td>\n",
       "      <td>331.07</td>\n",
       "      <td>3.33</td>\n",
       "      <td>0</td>\n",
       "      <td>0.06</td>\n",
       "      <td>0.090000</td>\n",
       "      <td>2.56</td>\n",
       "      <td>0</td>\n",
       "      <td>0.0</td>\n",
       "      <td>0.0</td>\n",
       "      <td>0.0</td>\n",
       "      <td>0.0</td>\n",
       "      <td>254687.0</td>\n",
       "      <td>143.68</td>\n",
       "      <td>0.0</td>\n",
       "      <td>G</td>\n",
       "      <td>Yes</td>\n",
       "      <td>6.0</td>\n",
       "      <td>No</td>\n",
       "      <td>Yes</td>\n",
       "      <td>No</td>\n",
       "      <td>Not Applicable</td>\n",
       "      <td>51</td>\n",
       "      <td>No</td>\n",
       "      <td>Yes</td>\n",
       "      <td>Yes</td>\n",
       "      <td>No</td>\n",
       "      <td>No</td>\n",
       "      <td>Yes</td>\n",
       "      <td>Yes</td>\n",
       "      <td>No</td>\n",
       "      <td>Bank Withdrawal</td>\n",
       "      <td>qflywarsexbpg13676</td>\n",
       "      <td>4</td>\n",
       "      <td>0.0</td>\n",
       "      <td>0</td>\n",
       "    </tr>\n",
       "    <tr>\n",
       "      <th>145</th>\n",
       "      <td>pltaycxycbhvo31</td>\n",
       "      <td>11</td>\n",
       "      <td>7</td>\n",
       "      <td>95126</td>\n",
       "      <td>Other</td>\n",
       "      <td>35.000000</td>\n",
       "      <td>No</td>\n",
       "      <td>No</td>\n",
       "      <td>0.0</td>\n",
       "      <td>sjmjgqjvhvth31</td>\n",
       "      <td>xbmtjtsvypinczxnhf31</td>\n",
       "      <td>CA</td>\n",
       "      <td>Santa Clara County</td>\n",
       "      <td>America/Los_Angeles</td>\n",
       "      <td>408</td>\n",
       "      <td>US</td>\n",
       "      <td>37.32</td>\n",
       "      <td>-121.91</td>\n",
       "      <td>0.00</td>\n",
       "      <td>0.00</td>\n",
       "      <td>0.000000</td>\n",
       "      <td>0.00</td>\n",
       "      <td>0.000000</td>\n",
       "      <td>0.00</td>\n",
       "      <td>0.00</td>\n",
       "      <td>0.00</td>\n",
       "      <td>0.00</td>\n",
       "      <td>0</td>\n",
       "      <td>0.00</td>\n",
       "      <td>0.000000</td>\n",
       "      <td>0.00</td>\n",
       "      <td>3210.570000</td>\n",
       "      <td>525.28</td>\n",
       "      <td>136.57</td>\n",
       "      <td>19.790000</td>\n",
       "      <td>1.21</td>\n",
       "      <td>202.92</td>\n",
       "      <td>0</td>\n",
       "      <td>0.05</td>\n",
       "      <td>61.380000</td>\n",
       "      <td>52.97</td>\n",
       "      <td>0</td>\n",
       "      <td>0.0</td>\n",
       "      <td>0.0</td>\n",
       "      <td>0.0</td>\n",
       "      <td>0.0</td>\n",
       "      <td>254687.0</td>\n",
       "      <td>95.40</td>\n",
       "      <td>0.0</td>\n",
       "      <td>J</td>\n",
       "      <td>Yes</td>\n",
       "      <td>10.0</td>\n",
       "      <td>No</td>\n",
       "      <td>No</td>\n",
       "      <td>No</td>\n",
       "      <td>Cable</td>\n",
       "      <td>56</td>\n",
       "      <td>No</td>\n",
       "      <td>Yes</td>\n",
       "      <td>No</td>\n",
       "      <td>No</td>\n",
       "      <td>No</td>\n",
       "      <td>Yes</td>\n",
       "      <td>Yes</td>\n",
       "      <td>No</td>\n",
       "      <td>Bank Withdrawal</td>\n",
       "      <td>xayhhjriwxte83055</td>\n",
       "      <td>3</td>\n",
       "      <td>0.0</td>\n",
       "      <td>0</td>\n",
       "    </tr>\n",
       "    <tr>\n",
       "      <th>...</th>\n",
       "      <td>...</td>\n",
       "      <td>...</td>\n",
       "      <td>...</td>\n",
       "      <td>...</td>\n",
       "      <td>...</td>\n",
       "      <td>...</td>\n",
       "      <td>...</td>\n",
       "      <td>...</td>\n",
       "      <td>...</td>\n",
       "      <td>...</td>\n",
       "      <td>...</td>\n",
       "      <td>...</td>\n",
       "      <td>...</td>\n",
       "      <td>...</td>\n",
       "      <td>...</td>\n",
       "      <td>...</td>\n",
       "      <td>...</td>\n",
       "      <td>...</td>\n",
       "      <td>...</td>\n",
       "      <td>...</td>\n",
       "      <td>...</td>\n",
       "      <td>...</td>\n",
       "      <td>...</td>\n",
       "      <td>...</td>\n",
       "      <td>...</td>\n",
       "      <td>...</td>\n",
       "      <td>...</td>\n",
       "      <td>...</td>\n",
       "      <td>...</td>\n",
       "      <td>...</td>\n",
       "      <td>...</td>\n",
       "      <td>...</td>\n",
       "      <td>...</td>\n",
       "      <td>...</td>\n",
       "      <td>...</td>\n",
       "      <td>...</td>\n",
       "      <td>...</td>\n",
       "      <td>...</td>\n",
       "      <td>...</td>\n",
       "      <td>...</td>\n",
       "      <td>...</td>\n",
       "      <td>...</td>\n",
       "      <td>...</td>\n",
       "      <td>...</td>\n",
       "      <td>...</td>\n",
       "      <td>...</td>\n",
       "      <td>...</td>\n",
       "      <td>...</td>\n",
       "      <td>...</td>\n",
       "      <td>...</td>\n",
       "      <td>...</td>\n",
       "      <td>...</td>\n",
       "      <td>...</td>\n",
       "      <td>...</td>\n",
       "      <td>...</td>\n",
       "      <td>...</td>\n",
       "      <td>...</td>\n",
       "      <td>...</td>\n",
       "      <td>...</td>\n",
       "      <td>...</td>\n",
       "      <td>...</td>\n",
       "      <td>...</td>\n",
       "      <td>...</td>\n",
       "      <td>...</td>\n",
       "      <td>...</td>\n",
       "      <td>...</td>\n",
       "      <td>...</td>\n",
       "      <td>...</td>\n",
       "      <td>...</td>\n",
       "      <td>...</td>\n",
       "    </tr>\n",
       "    <tr>\n",
       "      <th>653317</th>\n",
       "      <td>tphemcbndfpem162885</td>\n",
       "      <td>5</td>\n",
       "      <td>5</td>\n",
       "      <td>91604</td>\n",
       "      <td>Female</td>\n",
       "      <td>23.000000</td>\n",
       "      <td>Yes</td>\n",
       "      <td>Yes</td>\n",
       "      <td>9.0</td>\n",
       "      <td>psxavglkqzny162885</td>\n",
       "      <td>lepgdnuzszymxfxefi162885</td>\n",
       "      <td>CA</td>\n",
       "      <td>Los Angeles County</td>\n",
       "      <td>America/Los_Angeles</td>\n",
       "      <td>213</td>\n",
       "      <td>US</td>\n",
       "      <td>34.13</td>\n",
       "      <td>-118.39</td>\n",
       "      <td>1555.64</td>\n",
       "      <td>148.54</td>\n",
       "      <td>286.060000</td>\n",
       "      <td>2640.98</td>\n",
       "      <td>11.450000</td>\n",
       "      <td>15.25</td>\n",
       "      <td>177.76</td>\n",
       "      <td>80.32</td>\n",
       "      <td>182.42</td>\n",
       "      <td>0</td>\n",
       "      <td>36.39</td>\n",
       "      <td>29.010000</td>\n",
       "      <td>12.66</td>\n",
       "      <td>149.150000</td>\n",
       "      <td>254.42</td>\n",
       "      <td>34.55</td>\n",
       "      <td>70.130000</td>\n",
       "      <td>866.24</td>\n",
       "      <td>21.63</td>\n",
       "      <td>0</td>\n",
       "      <td>0.02</td>\n",
       "      <td>8.530000</td>\n",
       "      <td>13.05</td>\n",
       "      <td>6036</td>\n",
       "      <td>0.0</td>\n",
       "      <td>0.0</td>\n",
       "      <td>0.0</td>\n",
       "      <td>0.0</td>\n",
       "      <td>254687.0</td>\n",
       "      <td>576.68</td>\n",
       "      <td>63.0</td>\n",
       "      <td>No Offer</td>\n",
       "      <td>Yes</td>\n",
       "      <td>7.0</td>\n",
       "      <td>Yes</td>\n",
       "      <td>No</td>\n",
       "      <td>No</td>\n",
       "      <td>None</td>\n",
       "      <td>8</td>\n",
       "      <td>No</td>\n",
       "      <td>No</td>\n",
       "      <td>No</td>\n",
       "      <td>No</td>\n",
       "      <td>Yes</td>\n",
       "      <td>No</td>\n",
       "      <td>No</td>\n",
       "      <td>No</td>\n",
       "      <td>Wallet Balance</td>\n",
       "      <td>unsgjstmbbczmsf47552</td>\n",
       "      <td>3</td>\n",
       "      <td>6036.0</td>\n",
       "      <td>0</td>\n",
       "    </tr>\n",
       "    <tr>\n",
       "      <th>653369</th>\n",
       "      <td>umbrcxomoexlc162896</td>\n",
       "      <td>8</td>\n",
       "      <td>5</td>\n",
       "      <td>94939</td>\n",
       "      <td>Female</td>\n",
       "      <td>55.000000</td>\n",
       "      <td>Yes</td>\n",
       "      <td>Not Specified</td>\n",
       "      <td>0.0</td>\n",
       "      <td>uuqthlwgdxrn162896</td>\n",
       "      <td>njhcqhdfkoqrazlxxo162896</td>\n",
       "      <td>CA</td>\n",
       "      <td>Marin County</td>\n",
       "      <td>America/Los_Angeles</td>\n",
       "      <td>415</td>\n",
       "      <td>US</td>\n",
       "      <td>37.93</td>\n",
       "      <td>-122.53</td>\n",
       "      <td>75.85</td>\n",
       "      <td>144.05</td>\n",
       "      <td>271.200000</td>\n",
       "      <td>30.16</td>\n",
       "      <td>10.500000</td>\n",
       "      <td>242.12</td>\n",
       "      <td>349.01</td>\n",
       "      <td>1073.75</td>\n",
       "      <td>1.19</td>\n",
       "      <td>0</td>\n",
       "      <td>30.40</td>\n",
       "      <td>24.610000</td>\n",
       "      <td>2.62</td>\n",
       "      <td>106.590000</td>\n",
       "      <td>145.29</td>\n",
       "      <td>86.85</td>\n",
       "      <td>83.010000</td>\n",
       "      <td>29.74</td>\n",
       "      <td>23.25</td>\n",
       "      <td>0</td>\n",
       "      <td>0.06</td>\n",
       "      <td>61.500000</td>\n",
       "      <td>54.30</td>\n",
       "      <td>1518</td>\n",
       "      <td>0.0</td>\n",
       "      <td>0.0</td>\n",
       "      <td>0.0</td>\n",
       "      <td>0.0</td>\n",
       "      <td>254687.0</td>\n",
       "      <td>5007.56</td>\n",
       "      <td>0.0</td>\n",
       "      <td>No Offer</td>\n",
       "      <td>Yes</td>\n",
       "      <td>8.0</td>\n",
       "      <td>Yes</td>\n",
       "      <td>Yes</td>\n",
       "      <td>No</td>\n",
       "      <td>Not Applicable</td>\n",
       "      <td>23</td>\n",
       "      <td>No</td>\n",
       "      <td>No</td>\n",
       "      <td>Yes</td>\n",
       "      <td>No</td>\n",
       "      <td>Yes</td>\n",
       "      <td>Yes</td>\n",
       "      <td>Yes</td>\n",
       "      <td>No</td>\n",
       "      <td>Credit Card</td>\n",
       "      <td>mospmxtxyzdy97920</td>\n",
       "      <td>1</td>\n",
       "      <td>1518.0</td>\n",
       "      <td>0</td>\n",
       "    </tr>\n",
       "    <tr>\n",
       "      <th>653423</th>\n",
       "      <td>dkjfuyorfdngv162907</td>\n",
       "      <td>13</td>\n",
       "      <td>11</td>\n",
       "      <td>87553</td>\n",
       "      <td>Male</td>\n",
       "      <td>23.000000</td>\n",
       "      <td>Yes</td>\n",
       "      <td>Yes</td>\n",
       "      <td>2.0</td>\n",
       "      <td>huiasasztqyw162907</td>\n",
       "      <td>dscivazeqkwgxzggqx162907</td>\n",
       "      <td>NM</td>\n",
       "      <td>Taos County</td>\n",
       "      <td>America/Denver</td>\n",
       "      <td>505575</td>\n",
       "      <td>US</td>\n",
       "      <td>36.17</td>\n",
       "      <td>-105.69</td>\n",
       "      <td>27.80</td>\n",
       "      <td>81.79</td>\n",
       "      <td>156.780000</td>\n",
       "      <td>22.08</td>\n",
       "      <td>1.970000</td>\n",
       "      <td>16.43</td>\n",
       "      <td>121.46</td>\n",
       "      <td>424.02</td>\n",
       "      <td>0.87</td>\n",
       "      <td>0</td>\n",
       "      <td>19.42</td>\n",
       "      <td>73.170000</td>\n",
       "      <td>10.20</td>\n",
       "      <td>164.160000</td>\n",
       "      <td>55.41</td>\n",
       "      <td>16.81</td>\n",
       "      <td>97.510000</td>\n",
       "      <td>73.50</td>\n",
       "      <td>22.02</td>\n",
       "      <td>0</td>\n",
       "      <td>0.10</td>\n",
       "      <td>74.750000</td>\n",
       "      <td>870.14</td>\n",
       "      <td>229</td>\n",
       "      <td>0.0</td>\n",
       "      <td>0.0</td>\n",
       "      <td>0.0</td>\n",
       "      <td>0.0</td>\n",
       "      <td>254687.0</td>\n",
       "      <td>585.54</td>\n",
       "      <td>0.0</td>\n",
       "      <td>D</td>\n",
       "      <td>Yes</td>\n",
       "      <td>9.0</td>\n",
       "      <td>Yes</td>\n",
       "      <td>No</td>\n",
       "      <td>No</td>\n",
       "      <td>Not Applicable</td>\n",
       "      <td>4</td>\n",
       "      <td>No</td>\n",
       "      <td>No</td>\n",
       "      <td>No</td>\n",
       "      <td>No</td>\n",
       "      <td>Yes</td>\n",
       "      <td>No</td>\n",
       "      <td>No</td>\n",
       "      <td>No</td>\n",
       "      <td>Bank Withdrawal</td>\n",
       "      <td>rgvqptvqmqule47777</td>\n",
       "      <td>2</td>\n",
       "      <td>229.0</td>\n",
       "      <td>1</td>\n",
       "    </tr>\n",
       "    <tr>\n",
       "      <th>653536</th>\n",
       "      <td>jqvmittclvgqd162934</td>\n",
       "      <td>11</td>\n",
       "      <td>7</td>\n",
       "      <td>98907</td>\n",
       "      <td>Not Specified</td>\n",
       "      <td>40.000000</td>\n",
       "      <td>Yes</td>\n",
       "      <td>No</td>\n",
       "      <td>0.0</td>\n",
       "      <td>uviytafwcahi162934</td>\n",
       "      <td>whncxdyflgkmlzguym162934</td>\n",
       "      <td>WA</td>\n",
       "      <td>Yakima County</td>\n",
       "      <td>America/Los_Angeles</td>\n",
       "      <td>509</td>\n",
       "      <td>US</td>\n",
       "      <td>46.59</td>\n",
       "      <td>-120.52</td>\n",
       "      <td>25.65</td>\n",
       "      <td>143.85</td>\n",
       "      <td>318.780000</td>\n",
       "      <td>416.37</td>\n",
       "      <td>12.540000</td>\n",
       "      <td>13.25</td>\n",
       "      <td>317.96</td>\n",
       "      <td>182.93</td>\n",
       "      <td>10.41</td>\n",
       "      <td>0</td>\n",
       "      <td>11.00</td>\n",
       "      <td>31.100000</td>\n",
       "      <td>14.43</td>\n",
       "      <td>170.040000</td>\n",
       "      <td>38.57</td>\n",
       "      <td>80.97</td>\n",
       "      <td>59.360000</td>\n",
       "      <td>7.93</td>\n",
       "      <td>12.83</td>\n",
       "      <td>0</td>\n",
       "      <td>0.03</td>\n",
       "      <td>67.120000</td>\n",
       "      <td>13.64</td>\n",
       "      <td>244</td>\n",
       "      <td>0.0</td>\n",
       "      <td>0.0</td>\n",
       "      <td>0.0</td>\n",
       "      <td>0.0</td>\n",
       "      <td>254687.0</td>\n",
       "      <td>373.84</td>\n",
       "      <td>0.0</td>\n",
       "      <td>No Offer</td>\n",
       "      <td>No</td>\n",
       "      <td>0.0</td>\n",
       "      <td>Yes</td>\n",
       "      <td>Yes</td>\n",
       "      <td>No</td>\n",
       "      <td>Not Applicable</td>\n",
       "      <td>14</td>\n",
       "      <td>No</td>\n",
       "      <td>Yes</td>\n",
       "      <td>Yes</td>\n",
       "      <td>No</td>\n",
       "      <td>Yes</td>\n",
       "      <td>No</td>\n",
       "      <td>No</td>\n",
       "      <td>No</td>\n",
       "      <td>Bank Withdrawal</td>\n",
       "      <td>qpzsyhumyefn64654</td>\n",
       "      <td>4</td>\n",
       "      <td>244.0</td>\n",
       "      <td>0</td>\n",
       "    </tr>\n",
       "    <tr>\n",
       "      <th>653580</th>\n",
       "      <td>lvinoatdykyvc162940</td>\n",
       "      <td>7</td>\n",
       "      <td>6</td>\n",
       "      <td>98132</td>\n",
       "      <td>Male</td>\n",
       "      <td>27.000000</td>\n",
       "      <td>Not Specified</td>\n",
       "      <td>Not Specified</td>\n",
       "      <td>0.0</td>\n",
       "      <td>mkumlrxlywbx162940</td>\n",
       "      <td>mumzhcmhaezoytzzxz162940</td>\n",
       "      <td>WA</td>\n",
       "      <td>King County</td>\n",
       "      <td>America/Los_Angeles</td>\n",
       "      <td>206</td>\n",
       "      <td>US</td>\n",
       "      <td>47.46</td>\n",
       "      <td>-122.29</td>\n",
       "      <td>721.64</td>\n",
       "      <td>108.51</td>\n",
       "      <td>1962.248080</td>\n",
       "      <td>3763.21</td>\n",
       "      <td>76.939405</td>\n",
       "      <td>277.63</td>\n",
       "      <td>321.61</td>\n",
       "      <td>3679.66</td>\n",
       "      <td>63.09</td>\n",
       "      <td>0</td>\n",
       "      <td>4.62</td>\n",
       "      <td>223.846205</td>\n",
       "      <td>339.71</td>\n",
       "      <td>1315.196499</td>\n",
       "      <td>2396.71</td>\n",
       "      <td>180.15</td>\n",
       "      <td>609.596025</td>\n",
       "      <td>371.14</td>\n",
       "      <td>72.47</td>\n",
       "      <td>0</td>\n",
       "      <td>0.03</td>\n",
       "      <td>456.532947</td>\n",
       "      <td>207.00</td>\n",
       "      <td>619</td>\n",
       "      <td>0.0</td>\n",
       "      <td>0.0</td>\n",
       "      <td>87978.0</td>\n",
       "      <td>0.0</td>\n",
       "      <td>254687.0</td>\n",
       "      <td>-1375.56</td>\n",
       "      <td>0.0</td>\n",
       "      <td>No Offer</td>\n",
       "      <td>No</td>\n",
       "      <td>3.0</td>\n",
       "      <td>Yes</td>\n",
       "      <td>No</td>\n",
       "      <td>No</td>\n",
       "      <td>Fiber Optic</td>\n",
       "      <td>52</td>\n",
       "      <td>No</td>\n",
       "      <td>Yes</td>\n",
       "      <td>No</td>\n",
       "      <td>Yes</td>\n",
       "      <td>Yes</td>\n",
       "      <td>Yes</td>\n",
       "      <td>Yes</td>\n",
       "      <td>No</td>\n",
       "      <td>Wallet Balance</td>\n",
       "      <td>npxyweakifbwm3141</td>\n",
       "      <td>5</td>\n",
       "      <td>619.0</td>\n",
       "      <td>0</td>\n",
       "    </tr>\n",
       "  </tbody>\n",
       "</table>\n",
       "<p>12847 rows × 70 columns</p>\n",
       "</div>"
      ],
      "text/plain": [
       "                Customer ID  Month  Month of Joining  zip_code         Gender  \\\n",
       "9            uqdtniwvxqzeu1     14                 6     72566           Male   \n",
       "86          ucpurmfkdlnwi18     13                12     71747         Female   \n",
       "103         sirifvlkipkel21     13                11     92865         Female   \n",
       "112         dnnrchjlmrylq24     14                 9     91423         Female   \n",
       "145         pltaycxycbhvo31     11                 7     95126          Other   \n",
       "...                     ...    ...               ...       ...            ...   \n",
       "653317  tphemcbndfpem162885      5                 5     91604         Female   \n",
       "653369  umbrcxomoexlc162896      8                 5     94939         Female   \n",
       "653423  dkjfuyorfdngv162907     13                11     87553           Male   \n",
       "653536  jqvmittclvgqd162934     11                 7     98907  Not Specified   \n",
       "653580  lvinoatdykyvc162940      7                 6     98132           Male   \n",
       "\n",
       "              Age        Married     Dependents  Number of Dependents  \\\n",
       "9       36.276942             No             No                   0.0   \n",
       "86      20.000000            Yes             No                   0.0   \n",
       "103     40.000000            Yes             No                   0.0   \n",
       "112     48.000000            Yes            Yes                   0.0   \n",
       "145     35.000000             No             No                   0.0   \n",
       "...           ...            ...            ...                   ...   \n",
       "653317  23.000000            Yes            Yes                   9.0   \n",
       "653369  55.000000            Yes  Not Specified                   0.0   \n",
       "653423  23.000000            Yes            Yes                   2.0   \n",
       "653536  40.000000            Yes             No                   0.0   \n",
       "653580  27.000000  Not Specified  Not Specified                   0.0   \n",
       "\n",
       "               Location ID                Service ID state  \\\n",
       "9            qcvetdmalnkw1       tkqnsqflrdatnqapsh1    AR   \n",
       "86          rqiqguxisfoc18      dkupusivpzrazcfsdi18    AR   \n",
       "103         jobplwgowgko21      zmuwwsnfbwxxdxzuvz21    CA   \n",
       "112         vxainqiqplai24      liroqcvpdnrzdyolqw24    CA   \n",
       "145         sjmjgqjvhvth31      xbmtjtsvypinczxnhf31    CA   \n",
       "...                    ...                       ...   ...   \n",
       "653317  psxavglkqzny162885  lepgdnuzszymxfxefi162885    CA   \n",
       "653369  uuqthlwgdxrn162896  njhcqhdfkoqrazlxxo162896    CA   \n",
       "653423  huiasasztqyw162907  dscivazeqkwgxzggqx162907    NM   \n",
       "653536  uviytafwcahi162934  whncxdyflgkmlzguym162934    WA   \n",
       "653580  mkumlrxlywbx162940  mumzhcmhaezoytzzxz162940    WA   \n",
       "\n",
       "                    county             timezone area_codes country  latitude  \\\n",
       "9             Izard County      America/Chicago        870      US     36.22   \n",
       "86            Union County      America/Chicago        870      US     33.04   \n",
       "103          Orange County  America/Los_Angeles        714      US     33.83   \n",
       "112     Los Angeles County  America/Los_Angeles   2.13E+17      US     34.14   \n",
       "145     Santa Clara County  America/Los_Angeles        408      US     37.32   \n",
       "...                    ...                  ...        ...     ...       ...   \n",
       "653317  Los Angeles County  America/Los_Angeles        213      US     34.13   \n",
       "653369        Marin County  America/Los_Angeles        415      US     37.93   \n",
       "653423         Taos County       America/Denver     505575      US     36.17   \n",
       "653536       Yakima County  America/Los_Angeles        509      US     46.59   \n",
       "653580         King County  America/Los_Angeles        206      US     47.46   \n",
       "\n",
       "        longitude  roam_ic  roam_og   loc_og_t2t  loc_og_t2m  loc_og_t2f  \\\n",
       "9          -92.08  1582.05   157.20   161.810000     1827.38   39.790000   \n",
       "86         -92.18    18.63    31.29  2894.400061      834.78  209.170000   \n",
       "103       -117.85    26.04    72.49   111.050000        1.87    6.890000   \n",
       "112       -118.42     0.00     0.00     0.000000        0.00    0.000000   \n",
       "145       -121.91     0.00     0.00     0.000000        0.00    0.000000   \n",
       "...           ...      ...      ...          ...         ...         ...   \n",
       "653317    -118.39  1555.64   148.54   286.060000     2640.98   11.450000   \n",
       "653369    -122.53    75.85   144.05   271.200000       30.16   10.500000   \n",
       "653423    -105.69    27.80    81.79   156.780000       22.08    1.970000   \n",
       "653536    -120.52    25.65   143.85   318.780000      416.37   12.540000   \n",
       "653580    -122.29   721.64   108.51  1962.248080     3763.21   76.939405   \n",
       "\n",
       "        loc_og_t2c  std_og_t2t  std_og_t2m  std_og_t2f  std_og_t2c  isd_og  \\\n",
       "9             1.00     1362.59     5267.31      171.81           0  390.32   \n",
       "86            9.59      177.64      116.17      120.34           0   14.74   \n",
       "103           4.83       11.50      134.28        6.71           0   31.44   \n",
       "112           0.00        0.00        0.00        0.00           0    0.00   \n",
       "145           0.00        0.00        0.00        0.00           0    0.00   \n",
       "...            ...         ...         ...         ...         ...     ...   \n",
       "653317       15.25      177.76       80.32      182.42           0   36.39   \n",
       "653369      242.12      349.01     1073.75        1.19           0   30.40   \n",
       "653423       16.43      121.46      424.02        0.87           0   19.42   \n",
       "653536       13.25      317.96      182.93       10.41           0   11.00   \n",
       "653580      277.63      321.61     3679.66       63.09           0    4.62   \n",
       "\n",
       "            spl_og  og_others   loc_ic_t2t  loc_ic_t2m  loc_ic_t2f  \\\n",
       "9        24.940000     511.23  2128.610000     2896.11       54.41   \n",
       "86      439.430599     100.81   156.270000      254.19       29.68   \n",
       "103       6.230000       2.70   171.280000      167.16       15.18   \n",
       "112       0.000000       0.00   149.180000     2769.19      207.23   \n",
       "145       0.000000       0.00  3210.570000      525.28      136.57   \n",
       "...            ...        ...          ...         ...         ...   \n",
       "653317   29.010000      12.66   149.150000      254.42       34.55   \n",
       "653369   24.610000       2.62   106.590000      145.29       86.85   \n",
       "653423   73.170000      10.20   164.160000       55.41       16.81   \n",
       "653536   31.100000      14.43   170.040000       38.57       80.97   \n",
       "653580  223.846205     339.71  1315.196499     2396.71      180.15   \n",
       "\n",
       "        std_ic_t2t  std_ic_t2m  std_ic_t2f  std_ic_t2o  spl_ic      isd_ic  \\\n",
       "9       100.540000      585.44      162.70           0    0.11   10.460000   \n",
       "86      998.844996       24.13       12.62           0    0.29  795.053477   \n",
       "103      54.880000       64.06       31.83           0    0.01   41.910000   \n",
       "112      33.720000      331.07        3.33           0    0.06    0.090000   \n",
       "145      19.790000        1.21      202.92           0    0.05   61.380000   \n",
       "...            ...         ...         ...         ...     ...         ...   \n",
       "653317   70.130000      866.24       21.63           0    0.02    8.530000   \n",
       "653369   83.010000       29.74       23.25           0    0.06   61.500000   \n",
       "653423   97.510000       73.50       22.02           0    0.10   74.750000   \n",
       "653536   59.360000        7.93       12.83           0    0.03   67.120000   \n",
       "653580  609.596025      371.14       72.47           0    0.03  456.532947   \n",
       "\n",
       "        ic_others  total_rech_amt  total_rech_data  vol_4g    vol_5g  \\\n",
       "9         1247.37             255              0.0     0.0       0.0   \n",
       "86           5.06            8462              0.0     0.0  254687.0   \n",
       "103         61.24             417              0.0     0.0      63.0   \n",
       "112          2.56               0              0.0     0.0       0.0   \n",
       "145         52.97               0              0.0     0.0       0.0   \n",
       "...           ...             ...              ...     ...       ...   \n",
       "653317      13.05            6036              0.0     0.0       0.0   \n",
       "653369      54.30            1518              0.0     0.0       0.0   \n",
       "653423     870.14             229              0.0     0.0       0.0   \n",
       "653536      13.64             244              0.0     0.0       0.0   \n",
       "653580     207.00             619              0.0     0.0   87978.0   \n",
       "\n",
       "         arpu_5g   arpu_4g     arpu  aug_vbc_5g     offer Referred a Friend  \\\n",
       "9       254687.0  254687.0  1330.04         0.0  No Offer               Yes   \n",
       "86           0.0  254687.0   160.07         0.0  No Offer               Yes   \n",
       "103          0.0  254687.0   478.77         0.0  No Offer               Yes   \n",
       "112          0.0  254687.0   143.68         0.0         G               Yes   \n",
       "145          0.0  254687.0    95.40         0.0         J               Yes   \n",
       "...          ...       ...      ...         ...       ...               ...   \n",
       "653317       0.0  254687.0   576.68        63.0  No Offer               Yes   \n",
       "653369       0.0  254687.0  5007.56         0.0  No Offer               Yes   \n",
       "653423       0.0  254687.0   585.54         0.0         D               Yes   \n",
       "653536       0.0  254687.0   373.84         0.0  No Offer                No   \n",
       "653580       0.0  254687.0 -1375.56         0.0  No Offer                No   \n",
       "\n",
       "        Number of Referrals Phone Service Multiple Lines Internet Service  \\\n",
       "9                       9.0           Yes             No               No   \n",
       "86                      6.0           Yes            Yes               No   \n",
       "103                     0.0           Yes            Yes               No   \n",
       "112                     6.0            No            Yes               No   \n",
       "145                    10.0            No             No               No   \n",
       "...                     ...           ...            ...              ...   \n",
       "653317                  7.0           Yes             No               No   \n",
       "653369                  8.0           Yes            Yes               No   \n",
       "653423                  9.0           Yes             No               No   \n",
       "653536                  0.0           Yes            Yes               No   \n",
       "653580                  3.0           Yes             No               No   \n",
       "\n",
       "         Internet Type  Streaming Data Consumption Online Security  \\\n",
       "9       Not Applicable                          74              No   \n",
       "86      Not Applicable                           0              No   \n",
       "103     Not Applicable                          56              No   \n",
       "112     Not Applicable                          51              No   \n",
       "145              Cable                          56              No   \n",
       "...                ...                         ...             ...   \n",
       "653317            None                           8              No   \n",
       "653369  Not Applicable                          23              No   \n",
       "653423  Not Applicable                           4              No   \n",
       "653536  Not Applicable                          14              No   \n",
       "653580     Fiber Optic                          52              No   \n",
       "\n",
       "       Online Backup Device Protection Plan Premium Tech Support Streaming TV  \\\n",
       "9                 No                    Yes                   No          Yes   \n",
       "86                No                     No                  Yes           No   \n",
       "103              Yes                    Yes                   No          Yes   \n",
       "112              Yes                    Yes                   No           No   \n",
       "145              Yes                     No                   No           No   \n",
       "...              ...                    ...                  ...          ...   \n",
       "653317            No                     No                   No          Yes   \n",
       "653369            No                    Yes                   No          Yes   \n",
       "653423            No                     No                   No          Yes   \n",
       "653536           Yes                    Yes                   No          Yes   \n",
       "653580           Yes                     No                  Yes          Yes   \n",
       "\n",
       "       Streaming Movies Streaming Music Unlimited Data   Payment Method  \\\n",
       "9                    No              No             No      Credit Card   \n",
       "86                   No              No             No  Bank Withdrawal   \n",
       "103                 Yes             Yes             No      Credit Card   \n",
       "112                 Yes             Yes             No  Bank Withdrawal   \n",
       "145                 Yes             Yes             No  Bank Withdrawal   \n",
       "...                 ...             ...            ...              ...   \n",
       "653317               No              No             No   Wallet Balance   \n",
       "653369              Yes             Yes             No      Credit Card   \n",
       "653423               No              No             No  Bank Withdrawal   \n",
       "653536               No              No             No  Bank Withdrawal   \n",
       "653580              Yes             Yes             No   Wallet Balance   \n",
       "\n",
       "                   Status ID  Satisfaction Score  total_recharge  Churn Value  \n",
       "9         inebwpymzwpup39698                   4           255.0            0  \n",
       "86        usfobpyxwqrkg27554                   5          8462.0            0  \n",
       "103       cullucfodcpbc24549                   3           417.0            0  \n",
       "112       qflywarsexbpg13676                   4             0.0            0  \n",
       "145        xayhhjriwxte83055                   3             0.0            0  \n",
       "...                      ...                 ...             ...          ...  \n",
       "653317  unsgjstmbbczmsf47552                   3          6036.0            0  \n",
       "653369     mospmxtxyzdy97920                   1          1518.0            0  \n",
       "653423    rgvqptvqmqule47777                   2           229.0            1  \n",
       "653536     qpzsyhumyefn64654                   4           244.0            0  \n",
       "653580     npxyweakifbwm3141                   5           619.0            0  \n",
       "\n",
       "[12847 rows x 70 columns]"
      ]
     },
     "execution_count": 42,
     "metadata": {},
     "output_type": "execute_result"
    }
   ],
   "source": [
    "#check it out\n",
    "df[df['arpu_4g']==254687]"
   ]
  },
  {
   "cell_type": "markdown",
   "metadata": {
    "id": "vzzuy2bvZ-2q"
   },
   "source": [
    "Let's see what is the value of 'total_rech_data' for these observations."
   ]
  },
  {
   "cell_type": "code",
   "execution_count": 43,
   "metadata": {
    "id": "GJ8kQmwSZ-2q",
    "outputId": "d3a243b3-42d2-493b-bb96-56205bcb39b5"
   },
   "outputs": [
    {
     "data": {
      "text/plain": [
       "0.0    12847\n",
       "Name: total_rech_data, dtype: int64"
      ]
     },
     "execution_count": 43,
     "metadata": {},
     "output_type": "execute_result"
    }
   ],
   "source": [
    "# Get the value counts of 'total_rech_data' for observations where the value in the 'arpu_4g' column is equal to 254687\n",
    "df[df['arpu_4g']==254687]['total_rech_data'].value_counts()"
   ]
  },
  {
   "cell_type": "markdown",
   "metadata": {
    "id": "V4c454tIZ-2q"
   },
   "source": [
    "Now, since the recharge amount is 0 and there is no ARPU, let's replace it with 0."
   ]
  },
  {
   "cell_type": "code",
   "execution_count": 44,
   "metadata": {
    "id": "akCqNl15Z-2q"
   },
   "outputs": [],
   "source": [
    "# Replace the outlier value 254687 in the 'arpu_4g' column of the dataframe 'df' with 0.\n",
    "df['arpu_4g']=df['arpu_4g'].replace(254687,0)\n"
   ]
  },
  {
   "cell_type": "code",
   "execution_count": 45,
   "metadata": {
    "id": "s2m3EgcRZ-2q",
    "outputId": "3204f340-6a72-487b-9858-e5f427e386a0"
   },
   "outputs": [
    {
     "data": {
      "text/plain": [
       "0.750      120.570000\n",
       "0.800      504.112000\n",
       "0.900     1893.758000\n",
       "0.950     2493.880000\n",
       "0.970     8675.470757\n",
       "0.990     8839.721689\n",
       "0.999    87978.000000\n",
       "Name: arpu_4g, dtype: float64"
      ]
     },
     "execution_count": 45,
     "metadata": {},
     "output_type": "execute_result"
    }
   ],
   "source": [
    "# Checking further\n",
    "df['arpu_4g'].quantile([0.75,0.8,0.9,0.95,0.97,0.99,0.999])"
   ]
  },
  {
   "cell_type": "code",
   "execution_count": 46,
   "metadata": {
    "id": "Crbcd8PaZ-2q",
    "outputId": "46ab4a55-fca0-4856-b020-4aae00dd8f39"
   },
   "outputs": [
    {
     "data": {
      "text/plain": [
       "0.0    5007\n",
       "Name: total_rech_data, dtype: int64"
      ]
     },
     "execution_count": 46,
     "metadata": {},
     "output_type": "execute_result"
    }
   ],
   "source": [
    "# Filter by 'arpu_4g' value of 87978 and count unique values in 'total_rech_data' column\n",
    "df[df['arpu_4g']==87978]['total_rech_data'].value_counts()"
   ]
  },
  {
   "cell_type": "markdown",
   "metadata": {
    "id": "M9jocWPh15J1"
   },
   "source": [
    "All rows in the dataframe with an 'arpu_4g' value of 87978 have 0 value in the 'total_rech_data' column, indicating that these are likely outliers. Therefore, we have decided to replace the 'arpu_4g' value for these rows with 0."
   ]
  },
  {
   "cell_type": "code",
   "execution_count": 47,
   "metadata": {
    "id": "JuOjiovGZ-2q"
   },
   "outputs": [],
   "source": [
    "# Replace the values with 0\n",
    "df['arpu_4g']=df['arpu_4g'].replace(87978,0)"
   ]
  },
  {
   "cell_type": "code",
   "execution_count": 48,
   "metadata": {
    "id": "I7aizZWaZ-2q",
    "outputId": "df37019b-2fd1-4893-c1e0-90fe814f778e"
   },
   "outputs": [
    {
     "data": {
      "text/plain": [
       "0.750     107.760000\n",
       "0.800     432.246000\n",
       "0.900    1803.560000\n",
       "0.950    2424.072000\n",
       "0.970    2735.554400\n",
       "0.990    8705.097343\n",
       "0.999    8839.721689\n",
       "Name: arpu_4g, dtype: float64"
      ]
     },
     "execution_count": 48,
     "metadata": {},
     "output_type": "execute_result"
    }
   ],
   "source": [
    "# Checking the quantiles again\n",
    "df['arpu_4g'].quantile([0.75,0.8,0.9,0.95,0.97,0.99,0.999])"
   ]
  },
  {
   "cell_type": "code",
   "execution_count": 49,
   "metadata": {
    "id": "dJp0H0BRZ-2r",
    "outputId": "c8944f7e-bad5-4350-d31c-1865a16518ce"
   },
   "outputs": [
    {
     "data": {
      "text/plain": [
       "0    16157\n",
       "1      980\n",
       "Name: Churn Value, dtype: int64"
      ]
     },
     "execution_count": 49,
     "metadata": {},
     "output_type": "execute_result"
    }
   ],
   "source": [
    "# Check the churn value for this ARPU\n",
    "df[df['arpu_4g']>8000]['Churn Value'].value_counts()"
   ]
  },
  {
   "cell_type": "markdown",
   "metadata": {
    "id": "IrZP-iq5Z-2r"
   },
   "source": [
    "**Observation:**\n",
    "\n",
    " * A higher ARPU suggests that a business is generating more revenue per user, which can be a positive sign for the business's profitability. However, a high ARPU can also imply churn, or the rate at which customers are leaving the business.\n",
    "\n",
    "* There are a few reasons why a high ARPU may imply churn. First, if a business is charging a high price for its services, it may attract a customer base that is more price-sensitive and likely to switch to a competitor if they find a better deal. This could result in a higher churn rate for the business."
   ]
  },
  {
   "cell_type": "code",
   "execution_count": 50,
   "metadata": {
    "id": "bwB9svs2Z-2r",
    "outputId": "b3a34dfc-1ab0-45bd-e2a8-309ce4410416"
   },
   "outputs": [
    {
     "data": {
      "text/plain": [
       "0.0    12614\n",
       "Name: total_rech_data, dtype: int64"
      ]
     },
     "execution_count": 50,
     "metadata": {},
     "output_type": "execute_result"
    }
   ],
   "source": [
    "# Check the value counts of total recharge data at outlying values\n",
    "df[df['arpu_5g']==254687]['total_rech_data'].value_counts()"
   ]
  },
  {
   "cell_type": "code",
   "execution_count": 51,
   "metadata": {
    "id": "HvnOLN9tZ-2r",
    "outputId": "90a82a8b-493d-4aa9-e99d-9ba7a700cf3f"
   },
   "outputs": [
    {
     "data": {
      "text/plain": [
       "0.0    5130\n",
       "Name: total_rech_data, dtype: int64"
      ]
     },
     "execution_count": 51,
     "metadata": {},
     "output_type": "execute_result"
    }
   ],
   "source": [
    "# Check the value counts of total recharge data at outlying values\n",
    "df[df['arpu_5g']==87978]['total_rech_data'].value_counts()"
   ]
  },
  {
   "cell_type": "code",
   "execution_count": 52,
   "metadata": {
    "id": "wWUCA-0QZ-2r"
   },
   "outputs": [],
   "source": [
    "# Replacing the values with 0 where total recharge data is 0\n",
    "df['arpu_5g']=df['arpu_5g'].replace([87978,254687],0)"
   ]
  },
  {
   "cell_type": "code",
   "execution_count": 53,
   "metadata": {
    "id": "eZ2G0_CgZ-2r",
    "outputId": "b3a9fe9c-cd7b-4380-8382-f24202b15506"
   },
   "outputs": [
    {
     "data": {
      "text/plain": [
       "0.750      96.490000\n",
       "0.800     417.102000\n",
       "0.900    1797.618000\n",
       "0.950    2543.904000\n",
       "0.970    2792.060000\n",
       "0.990    8587.153966\n",
       "0.999    8724.440600\n",
       "Name: arpu_5g, dtype: float64"
      ]
     },
     "execution_count": 53,
     "metadata": {},
     "output_type": "execute_result"
    }
   ],
   "source": [
    "# Check the quantiles of ARPU 5G\n",
    "df['arpu_5g'].quantile([0.75,0.8,0.9,0.95,0.97,0.99,0.999])"
   ]
  },
  {
   "cell_type": "code",
   "execution_count": 54,
   "metadata": {
    "id": "288nXt4mZ-2r",
    "outputId": "f8c7d42f-d79d-4a2e-ce81-241662b06e73"
   },
   "outputs": [
    {
     "data": {
      "text/plain": [
       "0.750       964.7200\n",
       "0.800      3814.2220\n",
       "0.900     12369.5160\n",
       "0.950     17358.4180\n",
       "0.970     19569.9704\n",
       "0.980     87978.0000\n",
       "0.990    254687.0000\n",
       "0.999    254687.0000\n",
       "Name: vol_5g, dtype: float64"
      ]
     },
     "execution_count": 54,
     "metadata": {},
     "output_type": "execute_result"
    }
   ],
   "source": [
    "# Check the quantiles of Volume of 5G data\n",
    "df['vol_5g'].quantile([0.75,0.8,0.9,0.95,0.97,0.98,0.99,0.999])"
   ]
  },
  {
   "cell_type": "code",
   "execution_count": 55,
   "metadata": {
    "id": "jk5WDhO4Z-2r",
    "outputId": "966f2b53-c1e2-4e62-b4ca-93f6e36514da"
   },
   "outputs": [
    {
     "data": {
      "text/plain": [
       "0.0    18072\n",
       "Name: total_rech_data, dtype: int64"
      ]
     },
     "execution_count": 55,
     "metadata": {},
     "output_type": "execute_result"
    }
   ],
   "source": [
    "# Lets see the recharge data value\n",
    "df[df['vol_5g']>=87978]['total_rech_data'].value_counts()"
   ]
  },
  {
   "cell_type": "code",
   "execution_count": 56,
   "metadata": {
    "id": "BnX_gEMTZ-2r",
    "outputId": "8a09bdf3-d41b-433e-9526-a9b4bdbe13d7"
   },
   "outputs": [
    {
     "data": {
      "text/plain": [
       "0.0    0.027643\n",
       "Name: total_rech_data, dtype: float64"
      ]
     },
     "execution_count": 56,
     "metadata": {},
     "output_type": "execute_result"
    }
   ],
   "source": [
    "# Proportion of these values\n",
    "df[df['vol_5g']>=87978]['total_rech_data'].value_counts()/df.shape[0]"
   ]
  },
  {
   "cell_type": "markdown",
   "metadata": {
    "id": "5GufyTVuZ-2s"
   },
   "source": [
    "**Observation**:\n",
    "\n",
    "There is a presence of 2% outliers in vol 5g, where the values are very high, but their total recharge data is 0. We will fill these outliers with 0, and below are some possible reasons why this could be:\n",
    "\n",
    "* Data recording error: It is possible that there was an error in recording the recharge data for these outliers, leading to an incorrect value of 0. In this case, it would make sense to fill the outliers with 0, as this is likely the correct value.\n",
    "\n",
    "* Promotions or bonuses: Another possibility is that these customers received promotions or bonuses that allowed them to use the service without recharging, leading to a total recharge data of 0. However, these customers may still be using the service heavily, leading to the high values in vol 5g. In this case, filling the outliers with 0 would make sense as it accurately reflects the lack of recharge data."
   ]
  },
  {
   "cell_type": "code",
   "execution_count": 57,
   "metadata": {
    "id": "gnSUoP5cZ-2s"
   },
   "outputs": [],
   "source": [
    "# Replace the outlier values\n",
    "df['vol_5g']=df['vol_5g'].replace([87978,254687],0)"
   ]
  },
  {
   "cell_type": "code",
   "execution_count": 58,
   "metadata": {
    "id": "Yc4VgnXjZ-2s",
    "outputId": "d31adc30-66e5-4ba9-e5b9-c8e00886eb66"
   },
   "outputs": [
    {
     "data": {
      "text/plain": [
       "array([ 1,  6,  7,  8,  9, 10, 11, 12, 13, 14,  2,  3,  4,  5],\n",
       "      dtype=int64)"
      ]
     },
     "execution_count": 58,
     "metadata": {},
     "output_type": "execute_result"
    }
   ],
   "source": [
    "# Unique months\n",
    "df['Month'].unique()"
   ]
  },
  {
   "cell_type": "code",
   "execution_count": 59,
   "metadata": {
    "id": "vyuox--FZ-2s",
    "outputId": "f46f2627-7512-4313-f160-ee23d12b5b19"
   },
   "outputs": [
    {
     "data": {
      "text/plain": [
       "array([ 1,  6, 11,  9,  8,  7, 10,  2, 12,  3,  5,  4], dtype=int64)"
      ]
     },
     "execution_count": 59,
     "metadata": {},
     "output_type": "execute_result"
    }
   ],
   "source": [
    "# Unique months of joining\n",
    "df['Month of Joining'].unique()"
   ]
  },
  {
   "cell_type": "markdown",
   "metadata": {
    "id": "NiZ5l8yUZ-2s"
   },
   "source": [
    "We will get 4 quarters in month of joining!"
   ]
  },
  {
   "cell_type": "code",
   "execution_count": 60,
   "metadata": {
    "id": "u-iiHq7o15J3"
   },
   "outputs": [],
   "source": [
    "# # Save Processed data\n",
    "# df.to_csv('../data/processed/processed_churn_data.csv',index=False)"
   ]
  },
  {
   "cell_type": "code",
   "execution_count": 61,
   "metadata": {
    "id": "bixkWnVAZ-2s"
   },
   "outputs": [],
   "source": [
    "import math\n",
    "\n",
    "# Define a function to map a month to its corresponding quarter\n",
    "def map_month_to_quarter(month):\n",
    "    if math.isnan(month): # Handle NaN values if present\n",
    "        return None\n",
    "    quarter = math.ceil(month / 3)\n",
    "    return quarter\n",
    "\n",
    "# Insert a new column called 'Quarter of Joining' in the DataFrame 'df' and populate it with the quarter corresponding to the 'Month of Joining' column\n",
    "df.insert(loc=1,column='Quarter of Joining',value=df['Month of Joining'].apply(lambda x: map_month_to_quarter(x)))\n",
    "\n",
    "# Insert a new column called 'Quarter' in the DataFrame 'df'and populate it with the quarter corresponding to the 'Month' column\n",
    "df.insert(loc=1,column='Quarter',value= df['Month'].apply(lambda x: map_month_to_quarter(x)))\n"
   ]
  },
  {
   "cell_type": "code",
   "execution_count": 62,
   "metadata": {
    "id": "AwJBQcGLZ-2t"
   },
   "outputs": [],
   "source": [
    "# Remove duplicate rows in the DataFrame 'df' based on the 'Customer ID', 'Quarter', and 'Quarter of Joining' columns and keep only the last occurrence of each set of duplicates\n",
    "telco=df.drop_duplicates(subset=['Customer ID','Quarter','Quarter of Joining'],keep='last')"
   ]
  },
  {
   "cell_type": "code",
   "execution_count": 63,
   "metadata": {
    "id": "e-lrocBCZ-2t"
   },
   "outputs": [],
   "source": [
    "# Filter 1 and 2 quarter wise data\n",
    "train_data=telco[(telco['Quarter of Joining']==1)&(telco['Quarter']==1)]\n",
    "test_data=telco[(telco['Quarter of Joining']==1)&(telco['Quarter']==2)]\n",
    "prediction_data=telco[(telco['Quarter of Joining']==2)&(telco['Quarter']==2)]\n",
    "save_point(\"fcTel2\")\n",
    "#note that we have not used alot of data which we will use for feedback loop"
   ]
  },
  {
   "cell_type": "markdown",
   "metadata": {
    "id": "P8RVRmNxZ-2t"
   },
   "source": [
    "### **Data Preprocessing and Leakage**\n",
    "\n"
   ]
  },
  {
   "cell_type": "code",
   "execution_count": 64,
   "metadata": {
    "id": "8O8pPwBlZ-2t",
    "outputId": "9ae89c5f-53fc-4df1-facf-b46eeede3f9e"
   },
   "outputs": [
    {
     "data": {
      "text/plain": [
       "Quarter  Quarter of Joining\n",
       "3        3                     30910\n",
       "4        3                     29119\n",
       "5        3                     26093\n",
       "2        2                     25632\n",
       "1        1                     24322\n",
       "3        2                     23528\n",
       "4        2                     21489\n",
       "5        2                     19212\n",
       "4        4                     17366\n",
       "2        1                     16716\n",
       "5        4                     16054\n",
       "3        1                     13733\n",
       "4        1                     12308\n",
       "5        1                     10952\n",
       "dtype: int64"
      ]
     },
     "execution_count": 64,
     "metadata": {},
     "output_type": "execute_result"
    }
   ],
   "source": [
    "telco[['Quarter','Quarter of Joining']].value_counts()"
   ]
  },
  {
   "cell_type": "code",
   "execution_count": 65,
   "metadata": {
    "id": "2U_wBCfdZ-2t",
    "outputId": "c9e19662-78b2-41c4-c950-852bc3acef6e"
   },
   "outputs": [
    {
     "data": {
      "text/plain": [
       "((24322, 72), (16716, 72))"
      ]
     },
     "execution_count": 65,
     "metadata": {},
     "output_type": "execute_result"
    }
   ],
   "source": [
    "train_data.shape,test_data.shape"
   ]
  },
  {
   "cell_type": "code",
   "execution_count": 66,
   "metadata": {
    "id": "JeGRNSUDZ-2t",
    "outputId": "0d902fb8-33e8-49eb-f0cb-7f5086b7f0f6"
   },
   "outputs": [
    {
     "data": {
      "text/plain": [
       "0    0.687279\n",
       "1    0.312721\n",
       "Name: Churn Value, dtype: float64"
      ]
     },
     "execution_count": 66,
     "metadata": {},
     "output_type": "execute_result"
    }
   ],
   "source": [
    "train_data['Churn Value'].value_counts(normalize=True)"
   ]
  },
  {
   "cell_type": "code",
   "execution_count": 67,
   "metadata": {
    "id": "Pn1taM8KZ-2t",
    "outputId": "34dbb65c-ae76-42e3-d1d2-9f588feab3bd"
   },
   "outputs": [
    {
     "data": {
      "text/plain": [
       "Index(['Customer ID', 'Quarter', 'Quarter of Joining', 'Month',\n",
       "       'Month of Joining', 'zip_code', 'Gender', 'Age', 'Married',\n",
       "       'Dependents', 'Number of Dependents', 'Location ID', 'Service ID',\n",
       "       'state', 'county', 'timezone', 'area_codes', 'country', 'latitude',\n",
       "       'longitude', 'roam_ic', 'roam_og', 'loc_og_t2t', 'loc_og_t2m',\n",
       "       'loc_og_t2f', 'loc_og_t2c', 'std_og_t2t', 'std_og_t2m', 'std_og_t2f',\n",
       "       'std_og_t2c', 'isd_og', 'spl_og', 'og_others', 'loc_ic_t2t',\n",
       "       'loc_ic_t2m', 'loc_ic_t2f', 'std_ic_t2t', 'std_ic_t2m', 'std_ic_t2f',\n",
       "       'std_ic_t2o', 'spl_ic', 'isd_ic', 'ic_others', 'total_rech_amt',\n",
       "       'total_rech_data', 'vol_4g', 'vol_5g', 'arpu_5g', 'arpu_4g', 'arpu',\n",
       "       'aug_vbc_5g', 'offer', 'Referred a Friend', 'Number of Referrals',\n",
       "       'Phone Service', 'Multiple Lines', 'Internet Service', 'Internet Type',\n",
       "       'Streaming Data Consumption', 'Online Security', 'Online Backup',\n",
       "       'Device Protection Plan', 'Premium Tech Support', 'Streaming TV',\n",
       "       'Streaming Movies', 'Streaming Music', 'Unlimited Data',\n",
       "       'Payment Method', 'Status ID', 'Satisfaction Score', 'total_recharge',\n",
       "       'Churn Value'],\n",
       "      dtype='object')"
      ]
     },
     "execution_count": 67,
     "metadata": {},
     "output_type": "execute_result"
    }
   ],
   "source": [
    "train_data.columns"
   ]
  },
  {
   "cell_type": "code",
   "execution_count": 68,
   "metadata": {
    "id": "xSt8tvLCZ-2t"
   },
   "outputs": [],
   "source": [
    "drop_cols=['Customer ID', 'Quarter', 'Quarter of Joining', 'Month',\n",
    "       'Month of Joining', 'zip_code','Location ID', 'Service ID',\n",
    "       'state', 'county', 'timezone', 'area_codes', 'country', 'latitude',\n",
    "       'longitude','Status ID']\n",
    "\n",
    "train_data=train_data.drop(columns=drop_cols)\n",
    "test_data=test_data.drop(columns=drop_cols)"
   ]
  },
  {
   "cell_type": "code",
   "execution_count": 70,
   "metadata": {
    "id": "4s2wqOZOZ-2t",
    "outputId": "45e7cbb7-459f-44d7-9735-34ebb8e13e45"
   },
   "outputs": [
    {
     "data": {
      "text/plain": [
       "Index(['Gender', 'Age', 'Married', 'Dependents', 'Number of Dependents',\n",
       "       'roam_ic', 'roam_og', 'loc_og_t2t', 'loc_og_t2m', 'loc_og_t2f',\n",
       "       'loc_og_t2c', 'std_og_t2t', 'std_og_t2m', 'std_og_t2f', 'std_og_t2c',\n",
       "       'isd_og', 'spl_og', 'og_others', 'loc_ic_t2t', 'loc_ic_t2m',\n",
       "       'loc_ic_t2f', 'std_ic_t2t', 'std_ic_t2m', 'std_ic_t2f', 'std_ic_t2o',\n",
       "       'spl_ic', 'isd_ic', 'ic_others', 'total_rech_amt', 'total_rech_data',\n",
       "       'vol_4g', 'vol_5g', 'arpu_5g', 'arpu_4g', 'arpu', 'aug_vbc_5g', 'offer',\n",
       "       'Referred a Friend', 'Number of Referrals', 'Phone Service',\n",
       "       'Multiple Lines', 'Internet Service', 'Internet Type',\n",
       "       'Streaming Data Consumption', 'Online Security', 'Online Backup',\n",
       "       'Device Protection Plan', 'Premium Tech Support', 'Streaming TV',\n",
       "       'Streaming Movies', 'Streaming Music', 'Unlimited Data',\n",
       "       'Payment Method', 'Satisfaction Score', 'total_recharge',\n",
       "       'Churn Value'],\n",
       "      dtype='object')"
      ]
     },
     "execution_count": 70,
     "metadata": {},
     "output_type": "execute_result"
    }
   ],
   "source": [
    "train_data.columns"
   ]
  },
  {
   "cell_type": "code",
   "execution_count": 71,
   "metadata": {
    "id": "OiHvfZ-aZ-2u"
   },
   "outputs": [],
   "source": [
    "X_train=train_data[train_data.columns[:-1]]\n",
    "y_train=train_data[train_data.columns[-1]]"
   ]
  },
  {
   "cell_type": "code",
   "execution_count": 72,
   "metadata": {
    "id": "tV0KZAHSZ-2u"
   },
   "outputs": [],
   "source": [
    "X_test=test_data[test_data.columns[:-1]]\n",
    "y_test=test_data[test_data.columns[-1]]"
   ]
  },
  {
   "cell_type": "code",
   "execution_count": 73,
   "metadata": {
    "id": "eWI8OHHwZ-2u",
    "outputId": "dc0b50fa-837b-4e11-e599-52e352b712e8"
   },
   "outputs": [
    {
     "data": {
      "text/plain": [
       "(0.31272099333936354, 0.1784517827231395)"
      ]
     },
     "execution_count": 73,
     "metadata": {},
     "output_type": "execute_result"
    }
   ],
   "source": [
    "y_train.mean(),y_test.mean()"
   ]
  },
  {
   "cell_type": "code",
   "execution_count": 76,
   "metadata": {
    "id": "Kg6yEz-pZ-2u"
   },
   "outputs": [],
   "source": [
    "from sklearn.preprocessing import OneHotEncoder\n",
    "from sklearn.preprocessing import StandardScaler\n",
    "from pickle import dump"
   ]
  },
  {
   "cell_type": "code",
   "execution_count": 77,
   "metadata": {
    "id": "l7sLu8xVZ-2u"
   },
   "outputs": [],
   "source": [
    "encoder = OneHotEncoder(sparse=False)\n",
    "encoder.fit(X_train[categorical_cols])\n",
    "encoded_features = list(encoder.get_feature_names_out(categorical_cols))\n",
    "\n",
    "X_train[encoded_features] = encoder.transform(X_train[categorical_cols])\n",
    "X_test[encoded_features] = encoder.transform(X_test[categorical_cols])"
   ]
  },
  {
   "cell_type": "code",
   "execution_count": 78,
   "metadata": {
    "id": "ouPOkzzUZ-2u",
    "outputId": "7830e5db-25d6-40e6-a1ea-6b1686bcc187"
   },
   "outputs": [
    {
     "data": {
      "text/plain": [
       "(24322, 110)"
      ]
     },
     "execution_count": 78,
     "metadata": {},
     "output_type": "execute_result"
    }
   ],
   "source": [
    "X_train.shape"
   ]
  },
  {
   "cell_type": "code",
   "execution_count": 79,
   "metadata": {
    "id": "5oLmG73vZ-2u"
   },
   "outputs": [],
   "source": [
    "# drop original features\n",
    "X_train=X_train.drop(categorical_cols,axis=1)\n",
    "X_test=X_test.drop(categorical_cols,axis=1)"
   ]
  },
  {
   "cell_type": "code",
   "execution_count": 80,
   "metadata": {
    "id": "iH1IbeEGZ-2u",
    "outputId": "54444f85-c9dd-4c0a-8b72-f69f65db130a"
   },
   "outputs": [
    {
     "data": {
      "text/plain": [
       "(24322, 92)"
      ]
     },
     "execution_count": 80,
     "metadata": {},
     "output_type": "execute_result"
    }
   ],
   "source": [
    "X_train.shape"
   ]
  },
  {
   "cell_type": "code",
   "execution_count": 81,
   "metadata": {
    "id": "qZ3r_X7gZ-2v"
   },
   "outputs": [],
   "source": [
    "scaler = StandardScaler()\n",
    "\n",
    "\n",
    "X_train[cts_cols]  = scaler.fit_transform(X_train[cts_cols]) \n",
    "\n",
    "X_test[cts_cols]  = scaler.transform(X_test[cts_cols])\n",
    "preserve(\"fcTel2\") "
   ]
  },
  {
   "cell_type": "markdown",
   "metadata": {
    "id": "TWNGtUnFO9Xb"
   },
   "source": [
    "## **Model Training**"
   ]
  },
  {
   "cell_type": "code",
   "execution_count": 82,
   "metadata": {
    "id": "XaCXWrHoZ-2v"
   },
   "outputs": [],
   "source": [
    "from sklearn.metrics import f1_score, recall_score, confusion_matrix, roc_auc_score\n",
    "from sklearn.linear_model import LogisticRegression\n",
    "from sklearn.model_selection import train_test_split\n",
    "from sklearn.ensemble import RandomForestClassifier\n",
    "from xgboost import XGBClassifier\n",
    "from sklearn.model_selection import GridSearchCV"
   ]
  },
  {
   "cell_type": "code",
   "execution_count": 83,
   "metadata": {
    "id": "jAXhpTUEZ-2v"
   },
   "outputs": [],
   "source": [
    "# function modelling\n",
    "#Columns needed to compare metrics\n",
    "comparison_columns = ['Model_Name', 'Train_F1score', 'Train_Recall', 'Test_F1score', 'Test_Recall']\n",
    "\n",
    "comparison_df = pd.DataFrame()\n",
    "\n",
    "def evaluate_models(model_name, model_defined_var, X_train, y_train, X_test, y_test):\n",
    "  ''' This function predicts and evaluates various models for clasification'''\n",
    "  \n",
    "  # train predictions\n",
    "  y_train_pred = model_defined_var.predict(X_train)\n",
    "  # train performance\n",
    "  train_f1_score = f1_score(y_train,y_train_pred)\n",
    "  train_recall = recall_score(y_train, y_train_pred)\n",
    "\n",
    "  # test predictions\n",
    "  y_pred = model_defined_var.predict(X_test)\n",
    "  # test performance\n",
    "  test_f1_score = f1_score(y_test,y_pred)\n",
    "  test_recall = recall_score(y_test, y_pred)\n",
    "\n",
    "  # Printing performance\n",
    "  print(\"Train Results\")\n",
    "  print(f'F1 Score: {train_f1_score}')\n",
    "  print(f'Recall Score: {train_recall}')\n",
    "  print(f'Confusion Matrix: \\n{confusion_matrix(y_train, y_train_pred)}')\n",
    "  print(f'Area Under Curve: {roc_auc_score(y_train, y_train_pred)}')\n",
    "\n",
    "  print(\" \")\n",
    "\n",
    "  print(\"Test Results\")\n",
    "  print(f'F1 Score: {test_f1_score}')\n",
    "  print(f'Recall Score: {test_recall}')\n",
    "  print(f'Confusion Matrix: \\n{confusion_matrix(y_test, y_pred)}')\n",
    "  print(f'Area Under Curve: {roc_auc_score(y_test, y_pred)}')\n",
    "\n",
    "  \n",
    "  #Saving our results\n",
    "  global comparison_columns\n",
    "\n",
    "  metric_scores = [model_name, train_f1_score, train_recall, test_f1_score, test_recall]\n",
    "  final_dict = dict(zip(comparison_columns,metric_scores))\n",
    "\n",
    "  return final_dict\n",
    "\n",
    "\n",
    "#function to create the comparison table\n",
    "final_list = []\n",
    "def add_dic_to_final_df(final_dict):\n",
    "  global final_list\n",
    "  final_list.append(final_dict)\n",
    "  global comparison_df\n",
    "  comparison_df = pd.DataFrame(final_list, columns= comparison_columns)"
   ]
  },
  {
   "cell_type": "code",
   "execution_count": 84,
   "metadata": {
    "id": "mC-rzryIZ-2v",
    "outputId": "bdc40228-71ad-40f0-ec44-32badd58abfc"
   },
   "outputs": [
    {
     "data": {
      "text/plain": [
       "0    0.687279\n",
       "1    0.312721\n",
       "Name: Churn Value, dtype: float64"
      ]
     },
     "execution_count": 84,
     "metadata": {},
     "output_type": "execute_result"
    }
   ],
   "source": [
    "# Churn in training data\n",
    "y_train.value_counts(normalize=True)"
   ]
  },
  {
   "cell_type": "code",
   "execution_count": 85,
   "metadata": {
    "id": "kULbYj1WZ-2v",
    "outputId": "8b6621e4-2d2a-436c-96ff-5429d14710fa"
   },
   "outputs": [
    {
     "data": {
      "text/plain": [
       "0    0.821548\n",
       "1    0.178452\n",
       "Name: Churn Value, dtype: float64"
      ]
     },
     "execution_count": 85,
     "metadata": {},
     "output_type": "execute_result"
    }
   ],
   "source": [
    "# Churn in test data\n",
    "y_test.value_counts(normalize=True)"
   ]
  },
  {
   "cell_type": "code",
   "execution_count": 86,
   "metadata": {
    "id": "zBTMjBgSZ-2v"
   },
   "outputs": [],
   "source": [
    "# Let's calculate the churn rate for data and store it as dict\n",
    "w=y_train.value_counts(normalize=True).to_dict()"
   ]
  },
  {
   "cell_type": "code",
   "execution_count": 87,
   "metadata": {
    "id": "F8l1pyBzZ-2v",
    "outputId": "22035971-3d60-4a09-ce75-3bf8a221e1c9"
   },
   "outputs": [
    {
     "data": {
      "text/plain": [
       "{0: 0.6872790066606365, 1: 0.31272099333936354}"
      ]
     },
     "execution_count": 87,
     "metadata": {},
     "output_type": "execute_result"
    }
   ],
   "source": [
    "# Weights\n",
    "w"
   ]
  },
  {
   "cell_type": "code",
   "execution_count": 88,
   "metadata": {
    "id": "zso3lJtgZ-2v",
    "outputId": "490d286d-b3f4-4433-d28d-4ac1bb1377b4"
   },
   "outputs": [],
   "source": [
    "# Define model\n",
    "lg2 = LogisticRegression(random_state=13, class_weight=w)\n",
    "# fit it\n",
    "lg2.fit(X_train,y_train)\n",
    "\n",
    "model_snapshot(\"fcTel2\")"
   ]
  },
  {
   "cell_type": "code",
   "execution_count": 89,
   "metadata": {
    "id": "32uRyLlRZ-2v",
    "outputId": "5895d80b-d068-437f-a84f-c27b2af6be1a"
   },
   "outputs": [
    {
     "name": "stdout",
     "output_type": "stream",
     "text": [
      "Train Results\n",
      "F1 Score: 0.6114806602611481\n",
      "Recall Score: 0.4894819879042861\n",
      "Confusion Matrix: \n",
      "[[15868   848]\n",
      " [ 3883  3723]]\n",
      "Area Under Curve: 0.7193760741148614\n",
      " \n",
      "Test Results\n",
      "F1 Score: 0.3334847796456156\n",
      "Recall Score: 0.24606101240362052\n",
      "Confusion Matrix: \n",
      "[[13048   685]\n",
      " [ 2249   734]]\n",
      "Area Under Curve: 0.5980905804754577\n"
     ]
    }
   ],
   "source": [
    "# Evaluate models\n",
    "logistic_results = evaluate_models(\"Logistic Regression\", lg2, X_train, y_train, X_test, y_test)\n",
    "add_dic_to_final_df(logistic_results)"
   ]
  },
  {
   "cell_type": "code",
   "execution_count": 90,
   "metadata": {
    "id": "l_x9tisdZ-2w",
    "outputId": "74c3ad02-43b1-4991-8b47-e36a01f217ba"
   },
   "outputs": [
    {
     "name": "stdout",
     "output_type": "stream",
     "text": [
      "Train Results\n",
      "F1 Score: 0.9951193773908454\n",
      "Recall Score: 0.9918485406258217\n",
      "Confusion Matrix: \n",
      "[[16704    12]\n",
      " [   62  7544]]\n",
      "Area Under Curve: 0.9955653327680437\n",
      " \n",
      "Test Results\n",
      "F1 Score: 0.4307692307692308\n",
      "Recall Score: 0.3754609453570231\n",
      "Confusion Matrix: \n",
      "[[12636  1097]\n",
      " [ 1863  1120]]\n",
      "Area Under Curve: 0.647790182865652\n"
     ]
    }
   ],
   "source": [
    "# define model\n",
    "random_f = RandomForestClassifier(n_estimators=20, class_weight=w, random_state=7)\n",
    "random_f.fit(X_train, y_train)\n",
    "\n",
    "randomf_results = evaluate_models(\"Random Forest\", random_f, X_train, y_train, X_test, y_test)\n",
    "add_dic_to_final_df(randomf_results)"
   ]
  },
  {
   "cell_type": "markdown",
   "metadata": {
    "id": "tHIxg_Lq15J9"
   },
   "source": [
    "### **XG Boost Training**\n"
   ]
  },
  {
   "cell_type": "code",
   "execution_count": 92,
   "metadata": {
    "id": "G0oToz7ZZ-2w",
    "outputId": "4f95287b-8c92-4ff0-9dae-d3d602b2f4a0"
   },
   "outputs": [
    {
     "name": "stdout",
     "output_type": "stream",
     "text": [
      "Train Results\n",
      "F1 Score: 0.8251796572692096\n",
      "Recall Score: 0.785038127793847\n",
      "Confusion Matrix: \n",
      "[[15821   895]\n",
      " [ 1635  5971]]\n",
      "Area Under Curve: 0.8657483053422453\n",
      " \n",
      "Test Results\n",
      "F1 Score: 0.49294162533384206\n",
      "Recall Score: 0.43312101910828027\n",
      "Confusion Matrix: \n",
      "[[12766   967]\n",
      " [ 1691  1292]]\n",
      "Area Under Curve: 0.6813533443316832\n"
     ]
    }
   ],
   "source": [
    "import xgboost as xgb\n",
    "\n",
    "# Convert training and test sets to DMatrix\n",
    "dtrain = xgb.DMatrix(X_train, label=y_train)\n",
    "dtest = xgb.DMatrix(X_test, label=y_test)\n",
    "\n",
    "# Train initial model\n",
    "params = {'objective': 'multi:softmax', 'num_class': 2}\n",
    "num_rounds = 30\n",
    "xgbmodel = xgb.train(params, dtrain, num_rounds)\n",
    "model_snapshot(\"fcTel2\")\n",
    "\n",
    "\n",
    "xgb_results = evaluate_models(\"XGB\", xgbmodel, dtrain, y_train, dtest, y_test)\n",
    "add_dic_to_final_df(xgb_results)"
   ]
  },
  {
   "cell_type": "code",
   "execution_count": 93,
   "metadata": {
    "id": "ujXnaqb4Z-2w",
    "outputId": "2d201a8c-58d8-4662-dfb3-3ec84743097c"
   },
   "outputs": [
    {
     "data": {
      "text/html": [
       "<div>\n",
       "<style scoped>\n",
       "    .dataframe tbody tr th:only-of-type {\n",
       "        vertical-align: middle;\n",
       "    }\n",
       "\n",
       "    .dataframe tbody tr th {\n",
       "        vertical-align: top;\n",
       "    }\n",
       "\n",
       "    .dataframe thead th {\n",
       "        text-align: right;\n",
       "    }\n",
       "</style>\n",
       "<table border=\"1\" class=\"dataframe\">\n",
       "  <thead>\n",
       "    <tr style=\"text-align: right;\">\n",
       "      <th></th>\n",
       "      <th>Model_Name</th>\n",
       "      <th>Train_F1score</th>\n",
       "      <th>Train_Recall</th>\n",
       "      <th>Test_F1score</th>\n",
       "      <th>Test_Recall</th>\n",
       "    </tr>\n",
       "  </thead>\n",
       "  <tbody>\n",
       "    <tr>\n",
       "      <th>0</th>\n",
       "      <td>Logistic Regression</td>\n",
       "      <td>0.611481</td>\n",
       "      <td>0.489482</td>\n",
       "      <td>0.333485</td>\n",
       "      <td>0.246061</td>\n",
       "    </tr>\n",
       "    <tr>\n",
       "      <th>1</th>\n",
       "      <td>Random Forest</td>\n",
       "      <td>0.995119</td>\n",
       "      <td>0.991849</td>\n",
       "      <td>0.430769</td>\n",
       "      <td>0.375461</td>\n",
       "    </tr>\n",
       "    <tr>\n",
       "      <th>2</th>\n",
       "      <td>XGB</td>\n",
       "      <td>0.825180</td>\n",
       "      <td>0.785038</td>\n",
       "      <td>0.492942</td>\n",
       "      <td>0.433121</td>\n",
       "    </tr>\n",
       "    <tr>\n",
       "      <th>3</th>\n",
       "      <td>XGB</td>\n",
       "      <td>0.825180</td>\n",
       "      <td>0.785038</td>\n",
       "      <td>0.492942</td>\n",
       "      <td>0.433121</td>\n",
       "    </tr>\n",
       "  </tbody>\n",
       "</table>\n",
       "</div>"
      ],
      "text/plain": [
       "            Model_Name  Train_F1score  Train_Recall  Test_F1score  Test_Recall\n",
       "0  Logistic Regression       0.611481      0.489482      0.333485     0.246061\n",
       "1        Random Forest       0.995119      0.991849      0.430769     0.375461\n",
       "2                  XGB       0.825180      0.785038      0.492942     0.433121\n",
       "3                  XGB       0.825180      0.785038      0.492942     0.433121"
      ]
     },
     "execution_count": 93,
     "metadata": {},
     "output_type": "execute_result"
    }
   ],
   "source": [
    "comparison_df"
   ]
  },
  {
   "cell_type": "code",
   "execution_count": 95,
   "metadata": {
    "id": "EpX231PYZ-2w"
   },
   "outputs": [
    {
     "name": "stderr",
     "output_type": "stream",
     "text": [
      "deepchecks - WARNING - You are using deepchecks version 0.12.0, however a newer version is available.Deepchecks is frequently updated with major improvements. You should consider upgrading via the \"python -m pip install --upgrade deepchecks\" command.\n"
     ]
    }
   ],
   "source": [
    "\n",
    "import traceback\n",
    "\n",
    "from deepchecks.tabular import Dataset\n",
    "from deepchecks.tabular import Suite\n",
    "from deepchecks.tabular.checks import WholeDatasetDrift, DataDuplicates, NewLabelTrainTest, TrainTestFeatureDrift, TrainTestLabelDrift\n",
    "from deepchecks.tabular.checks import FeatureLabelCorrelation, FeatureLabelCorrelationChange, ConflictingLabels, OutlierSampleDetection \n",
    "from deepchecks.tabular.checks import WeakSegmentsPerformance, RocReport, ConfusionMatrixReport, TrainTestPredictionDrift, CalibrationScore, BoostingOverfit\n"
   ]
  },
  {
   "cell_type": "code",
   "execution_count": 96,
   "metadata": {
    "id": "FsPZPOfpZ-2x"
   },
   "outputs": [],
   "source": [
    "# Define categorical and continuous columns\n",
    "pred_cat_cols=[\n",
    "       'Gender_Female', 'Gender_Male', 'Gender_Not Specified', 'Gender_Other',\n",
    "       'Married_No', 'Married_Not Specified', 'Married_Yes', 'Dependents_No',\n",
    "       'Dependents_Not Specified', 'Dependents_Yes', 'offer_A', 'offer_B',\n",
    "       'offer_C', 'offer_D', 'offer_E', 'offer_F', 'offer_G', 'offer_H',\n",
    "       'offer_I', 'offer_J', 'offer_No Offer', 'Referred a Friend_No',\n",
    "       'Referred a Friend_Yes', 'Phone Service_No', 'Phone Service_Yes',\n",
    "       'Multiple Lines_No', 'Multiple Lines_None', 'Multiple Lines_Yes',\n",
    "       'Internet Service_No', 'Internet Service_Yes', 'Internet Type_Cable',\n",
    "       'Internet Type_DSL', 'Internet Type_Fiber Optic', 'Internet Type_None',\n",
    "       'Internet Type_Not Applicable', 'Online Security_No',\n",
    "       'Online Security_Yes', 'Online Backup_No', 'Online Backup_Yes',\n",
    "       'Device Protection Plan_No', 'Device Protection Plan_Yes',\n",
    "       'Premium Tech Support_No', 'Premium Tech Support_Yes',\n",
    "       'Streaming TV_No', 'Streaming TV_Yes', 'Streaming Movies_No',\n",
    "       'Streaming Movies_Yes', 'Streaming Music_No', 'Streaming Music_Yes',\n",
    "       'Unlimited Data_No', 'Unlimited Data_None', 'Unlimited Data_Yes',\n",
    "       'Payment Method_Bank Withdrawal', 'Payment Method_Credit Card',\n",
    "       'Payment Method_Wallet Balance']\n",
    "\n",
    "pred_cts_cols=['Age', 'Number of Dependents', 'roam_ic', 'roam_og', 'loc_og_t2t',\n",
    "       'loc_og_t2m', 'loc_og_t2f', 'loc_og_t2c', 'std_og_t2t', 'std_og_t2m',\n",
    "       'std_og_t2f', 'std_og_t2c', 'isd_og', 'spl_og', 'og_others',\n",
    "       'loc_ic_t2t', 'loc_ic_t2m', 'loc_ic_t2f', 'std_ic_t2t', 'std_ic_t2m',\n",
    "       'std_ic_t2f', 'std_ic_t2o', 'spl_ic', 'isd_ic', 'ic_others',\n",
    "       'total_rech_amt', 'total_rech_data', 'vol_4g', 'vol_5g', 'arpu_5g',\n",
    "       'arpu_4g', 'arpu', 'aug_vbc_5g', 'Number of Referrals',\n",
    "       'Streaming Data Consumption', 'Satisfaction Score', 'total_recharge']"
   ]
  },
  {
   "cell_type": "code",
   "execution_count": 98,
   "metadata": {
    "id": "BSdh_6o2Z-2x"
   },
   "outputs": [],
   "source": [
    "def check_data_drift(ref_df:pd.DataFrame, cur_df:pd.DataFrame, predictors:list, job_id:str):\n",
    "    \"\"\"\n",
    "    Check for data drifts between two datasets and decide whether to retrain the model. \n",
    "    A report will be saved in the results directory.\n",
    "    :param ref_df: Reference dataset\n",
    "    :param cur_df: Current dataset\n",
    "    :param predictors: Predictors to check for drifts\n",
    "    :param target: Target variable to check for drifts\n",
    "    :param job_id: Job ID\n",
    "    :return: boolean\n",
    "    \"\"\"\n",
    "    ref_features = [col for col in predictors if col in ref_df.columns]\n",
    "    cur_features = [col for col in predictors if col in cur_df.columns]\n",
    "    ref_cat_features = [col for col in pred_cat_cols if col in ref_df.columns]\n",
    "    cur_cat_features = [col for col in pred_cat_cols if col in cur_df.columns]\n",
    "    ref_dataset = Dataset(ref_df,  features=ref_features, cat_features=ref_cat_features)\n",
    "    cur_dataset = Dataset(cur_df, features=cur_features, cat_features=cur_cat_features)\n",
    "    \n",
    "    suite = Suite(\"data drift\",\n",
    "        WholeDatasetDrift().add_condition_overall_drift_value_less_than(0.2), #0.2 \n",
    "        TrainTestFeatureDrift().add_condition_drift_score_less_than(0.2), #0.1   \n",
    "        )\n",
    "    r = suite.run(train_dataset=ref_dataset, test_dataset=cur_dataset)\n",
    "    retrain = (len(r.get_not_ran_checks())>0) or (len(r.get_not_passed_checks())>0)\n",
    "    \n",
    "   \n",
    "    return {\"report\": r, \"retrain\": retrain}\n"
   ]
  },
  {
   "cell_type": "code",
   "execution_count": 99,
   "metadata": {
    "id": "__Oh0gxVZ-2x"
   },
   "outputs": [],
   "source": [
    "def preprocess_steps(data):\n",
    "    df=data.copy()\n",
    "    drop_cols=['Customer ID', 'Quarter', 'Quarter of Joining', 'Month',\n",
    "       'Month of Joining', 'zip_code','Location ID', 'Service ID',\n",
    "       'state', 'county', 'timezone', 'area_codes', 'country', 'latitude',\n",
    "       'longitude','Status ID']\n",
    "    df=df.drop(columns=drop_cols)\n",
    "    processed_data=df.copy()\n",
    "    processed_data[encoded_features] = encoder.transform(processed_data[categorical_cols])\n",
    "    processed_data=processed_data.drop(categorical_cols,axis=1)\n",
    "    processed_data[cts_cols]  = scaler.transform(processed_data[cts_cols]) \n",
    "\n",
    "    return processed_data"
   ]
  },
  {
   "cell_type": "code",
   "execution_count": 100,
   "metadata": {
    "id": "AdLiM35qZ-2x"
   },
   "outputs": [],
   "source": [
    "# Creating a copy of train for reference\n",
    "ref_check_data=X_train.copy()"
   ]
  },
  {
   "cell_type": "code",
   "execution_count": 101,
   "metadata": {
    "id": "5W9uUrowZ-2x"
   },
   "outputs": [],
   "source": [
    "def inference_pipeline(inference_data,reference_data,job_id,predictors_cols):\n",
    "    #write data cleaning steps if necessary\n",
    "\n",
    "    #data preprocessing\n",
    "    clean_inf_data=preprocess_steps(inference_data)\n",
    "\n",
    "    #data drift\n",
    "    data_drift=check_data_drift(ref_df=reference_data, cur_df=clean_inf_data, predictors=predictors_cols,  job_id=job_id)\n",
    "    print(f\"Data Drift Retrain: {data_drift['retrain']}\")\n",
    "\n",
    "    return data_drift\n",
    "    "
   ]
  },
  {
   "cell_type": "code",
   "execution_count": 102,
   "metadata": {
    "id": "m4gbSSj9Z-2y",
    "outputId": "87c79d4e-fa5e-49f6-fbe0-5da4a99be8c7"
   },
   "outputs": [
    {
     "data": {
      "text/html": [
       "\n",
       "    <style>\n",
       "        progress {\n",
       "            -webkit-appearance: none;\n",
       "            border: none;\n",
       "            border-radius: 3px;\n",
       "            width: 300px;\n",
       "            height: 20px;\n",
       "            vertical-align: middle;\n",
       "            margin-right: 10px;\n",
       "            background-color: aliceblue;\n",
       "        }\n",
       "        progress::-webkit-progress-bar {\n",
       "            border-radius: 3px;\n",
       "            background-color: aliceblue;\n",
       "        }\n",
       "        progress::-webkit-progress-value {\n",
       "            background-color: #9d60fb;\n",
       "        }\n",
       "        progress::-moz-progress-bar {\n",
       "            background-color: #9d60fb;\n",
       "        }\n",
       "    </style>\n",
       "    "
      ]
     },
     "metadata": {},
     "output_type": "display_data"
    },
    {
     "data": {
      "text/html": []
     },
     "metadata": {},
     "output_type": "display_data"
    },
    {
     "name": "stdout",
     "output_type": "stream",
     "text": [
      "Data Drift Retrain: False\n"
     ]
    }
   ],
   "source": [
    "model_snapshot(\"fcTel2\")\n",
    "d1_drift=inference_pipeline(inference_data=prediction_data[prediction_data.columns[:-1]],reference_data=ref_check_data,job_id='1cbhja2',predictors_cols=pred_cat_cols+pred_cts_cols)"
   ]
  },
  {
   "cell_type": "markdown",
   "metadata": {
    "id": "i_7DsLU6Z-2y"
   },
   "source": [
    "No data drift!"
   ]
  },
  {
   "cell_type": "code",
   "execution_count": 103,
   "metadata": {
    "id": "oW7LH9zQZ-2y"
   },
   "outputs": [],
   "source": [
    "# Taking prediction data for testing\n",
    "pred_processed_data=preprocess_steps(prediction_data[prediction_data.columns[:-1]])\n",
    "d_pred_processed_data = xgb.DMatrix(pred_processed_data)\n",
    "predictions = xgbmodel.predict(d_pred_processed_data)"
   ]
  },
  {
   "cell_type": "markdown",
   "metadata": {
    "id": "EO1T4DxKZ-2y"
   },
   "source": [
    "Lets compare predictions and actual values"
   ]
  },
  {
   "cell_type": "code",
   "execution_count": 104,
   "metadata": {
    "id": "c0I6G4UfZ-2y"
   },
   "outputs": [],
   "source": [
    "pred_label=prediction_data['Churn Value']"
   ]
  },
  {
   "cell_type": "code",
   "execution_count": 105,
   "metadata": {
    "id": "u45hgTcUZ-2y",
    "outputId": "acf231e2-5fc7-4884-dd6f-1f0a6c827b72"
   },
   "outputs": [
    {
     "name": "stdout",
     "output_type": "stream",
     "text": [
      "Confusion Matrix: \n",
      "[[21449  2079]\n",
      " [  618  1486]]\n",
      "Area Under Curve: 0.8089554812452245\n"
     ]
    }
   ],
   "source": [
    "print(f'Confusion Matrix: \\n{confusion_matrix(pred_label, predictions)}')\n",
    "print(f'Area Under Curve: {roc_auc_score(pred_label, predictions)}')"
   ]
  },
  {
   "cell_type": "markdown",
   "metadata": {
    "id": "zGHXLy6-Z-2z"
   },
   "source": [
    "Let's create a function to check data drift when label is available!"
   ]
  },
  {
   "cell_type": "code",
   "execution_count": 108,
   "metadata": {
    "id": "LH5RjXzYZ-2z"
   },
   "outputs": [],
   "source": [
    "def check_data_drift_with_label(ref_df:pd.DataFrame, cur_df:pd.DataFrame, target:str, predictors:list, job_id:str):\n",
    "    \"\"\"\n",
    "    Check for data drifts between two datasets and decide whether to retrain the model. \n",
    "    A report will be saved in the results directory.\n",
    "    :param ref_df: Reference dataset\n",
    "    :param cur_df: Current dataset\n",
    "    :param predictors: Predictors to check for drifts\n",
    "    :param target: Target variable to check for drifts\n",
    "    :param job_id: Job ID\n",
    "    :return: boolean\n",
    "    \"\"\"\n",
    "    ref_features = [col for col in predictors if col in ref_df.columns]\n",
    "    cur_features = [col for col in predictors if col in cur_df.columns]\n",
    "    ref_cat_features = [col for col in pred_cat_cols if col in ref_df.columns]\n",
    "    cur_cat_features = [col for col in pred_cat_cols if col in cur_df.columns]\n",
    "    ref_dataset = Dataset(ref_df, label=target, features=ref_features, cat_features=ref_cat_features)\n",
    "    cur_dataset = Dataset(cur_df, label=target,features=cur_features, cat_features=cur_cat_features)\n",
    "    \n",
    "    suite = Suite(\"data drift\",\n",
    "        NewLabelTrainTest(),\n",
    "        WholeDatasetDrift().add_condition_overall_drift_value_less_than(0.2), \n",
    "        FeatureLabelCorrelationChange().add_condition_feature_pps_difference_less_than(0.2), \n",
    "        TrainTestFeatureDrift().add_condition_drift_score_less_than(0.2), \n",
    "        TrainTestLabelDrift(balance_classes=True).add_condition_drift_score_less_than(0.4) \n",
    "    )\n",
    "    r = suite.run(train_dataset=ref_dataset, test_dataset=cur_dataset)\n",
    "    retrain = (len(r.get_not_ran_checks())>0) or (len(r.get_not_passed_checks())>0)\n",
    "    \n",
    "    \n",
    "    return {\"report\": r, \"retrain\": retrain}\n",
    "\n",
    "def check_model_drift(model,pred_data,label):\n",
    "    dmatrix = xgb.DMatrix(pred_data)\n",
    "    label_pred=model.predict(dmatrix)\n",
    "    test_f1_score = f1_score(label,label_pred)\n",
    "    test_recall = recall_score(label, label_pred)\n",
    "\n",
    "    print(\"\\n Test Results\")\n",
    "    print(f'F1 Score: {test_f1_score}')\n",
    "    print(f'Recall Score: {test_recall}')\n",
    "    print(f'Confusion Matrix: \\n{confusion_matrix(label, label_pred)}')\n",
    "    print(f'Area Under Curve: {roc_auc_score(label, label_pred)}')\n",
    "\n",
    "    #condition for model retraining according to business\n",
    "    model_retrain= (test_recall<0.80) or (test_f1_score<0.35)\n",
    "    print(f\"\\n Model Drift Retrain: {model_retrain}\")\n",
    "    return model_retrain,label_pred"
   ]
  },
  {
   "cell_type": "code",
   "execution_count": 109,
   "metadata": {
    "id": "wbZuYOoJZ-2z"
   },
   "outputs": [],
   "source": [
    "def inference_pipeline_with_label(inference_data,reference_data,job_id,trained_model,target_col_name,target_value,predictors_cols):\n",
    "    \n",
    "    clean_inf_data=preprocess_steps(inference_data)\n",
    "    clean_inf_data[target_col_name]=target_value\n",
    "\n",
    "    data_drift=check_data_drift_with_label(ref_df=reference_data, cur_df=clean_inf_data, predictors=predictors_cols, target=target_col_name, job_id=job_id)\n",
    "    print(f\"Data Drift Retrain: {data_drift['retrain']}\")\n",
    "\n",
    "    model_retrain,predictions=check_model_drift(model=trained_model,pred_data=clean_inf_data.drop(columns=target_col_name),label=target_value)\n",
    "\n",
    "    return  data_drift,model_retrain,predictions\n",
    "    "
   ]
  },
  {
   "cell_type": "code",
   "execution_count": 110,
   "metadata": {
    "id": "xeRIVFEhZ-2z"
   },
   "outputs": [],
   "source": [
    "# actual values\n",
    "label_check_data=X_train.copy()\n",
    "label_check_data['Churn Value']=y_train"
   ]
  },
  {
   "cell_type": "code",
   "execution_count": 111,
   "metadata": {
    "id": "6u2dvFK6Z-20",
    "outputId": "3e69750a-7f37-436b-a02a-5a0f8d1b7eb0"
   },
   "outputs": [
    {
     "data": {
      "text/html": [
       "\n",
       "    <style>\n",
       "        progress {\n",
       "            -webkit-appearance: none;\n",
       "            border: none;\n",
       "            border-radius: 3px;\n",
       "            width: 300px;\n",
       "            height: 20px;\n",
       "            vertical-align: middle;\n",
       "            margin-right: 10px;\n",
       "            background-color: aliceblue;\n",
       "        }\n",
       "        progress::-webkit-progress-bar {\n",
       "            border-radius: 3px;\n",
       "            background-color: aliceblue;\n",
       "        }\n",
       "        progress::-webkit-progress-value {\n",
       "            background-color: #9d60fb;\n",
       "        }\n",
       "        progress::-moz-progress-bar {\n",
       "            background-color: #9d60fb;\n",
       "        }\n",
       "    </style>\n",
       "    "
      ]
     },
     "metadata": {},
     "output_type": "display_data"
    },
    {
     "data": {
      "text/html": []
     },
     "metadata": {},
     "output_type": "display_data"
    },
    {
     "name": "stdout",
     "output_type": "stream",
     "text": [
      "Data Drift Retrain: False\n",
      "\n",
      " Test Results\n",
      "F1 Score: 0.5242547186452636\n",
      "Recall Score: 0.7062737642585551\n",
      "Confusion Matrix: \n",
      "[[21449  2079]\n",
      " [  618  1486]]\n",
      "Area Under Curve: 0.8089554812452245\n",
      "\n",
      " Model Drift Retrain: True\n"
     ]
    }
   ],
   "source": [
    "# Report of data drift with label\n",
    "d2_drift,model_retrain,pred=inference_pipeline_with_label(inference_data=prediction_data[prediction_data.columns[:-1]],reference_data=label_check_data,job_id='1njkwna',trained_model=xgbmodel,predictors_cols=pred_cat_cols+pred_cts_cols,target_col_name='Churn Value',target_value=prediction_data['Churn Value'])"
   ]
  },
  {
   "cell_type": "markdown",
   "metadata": {
    "id": "MONYJU8W15KB"
   },
   "source": [
    "Here we would have to retrain the model!"
   ]
  },
  {
   "cell_type": "code",
   "execution_count": 112,
   "metadata": {
    "id": "Ml2eg_pXZ-20"
   },
   "outputs": [],
   "source": [
    "params = {'objective': 'multi:softmax', 'num_class': 2}\n",
    "retrain_rounds=100\n",
    "\n",
    "if d2_drift['retrain']:\n",
    "    clean_prediction_data=preprocess_steps(prediction_data[prediction_data.columns[:-1]])\n",
    "    drift_train=pd.concat([X_train,clean_prediction_data],ignore_index=True)\n",
    "    drift_label=pd.concat([y_train,prediction_data['Churn Value']],ignore_index=True)\n",
    "\n",
    "    xgbmodel = xgb.train(params, xgb.DMatrix(drift_train, label=drift_label), num_boost_round=num_rounds)\n",
    "\n",
    "\n",
    "elif model_retrain:\n",
    "    misclassified = prediction_data['Churn Value'] != pred\n",
    "    feedback_X = prediction_data[misclassified][prediction_data.columns[:-1]]\n",
    "    feedback_y = prediction_data[misclassified]['Churn Value']\n",
    "    \n",
    "    feedback_processed = preprocess_steps(feedback_X)\n",
    "\n",
    "    X_train_all = pd.concat([X_train, feedback_processed], ignore_index=True)\n",
    "    y_train_all = pd.concat([y_train, feedback_y], ignore_index=True)\n",
    "    \n",
    "    xgb_retrained = xgb.train(params, xgb.DMatrix(X_train_all, label=y_train_all), \n",
    "                         xgb_model=xgbmodel, num_boost_round=retrain_rounds)\n",
    "\n",
    "save_point(\"fcTel2\")"
   ]
  },
  {
   "cell_type": "code",
   "execution_count": 113,
   "metadata": {
    "id": "JlpnfZ_m15KC",
    "outputId": "28a04969-3dea-4f0b-fb0c-3bd36c893ba7"
   },
   "outputs": [
    {
     "data": {
      "text/html": [
       "\n",
       "    <style>\n",
       "        progress {\n",
       "            -webkit-appearance: none;\n",
       "            border: none;\n",
       "            border-radius: 3px;\n",
       "            width: 300px;\n",
       "            height: 20px;\n",
       "            vertical-align: middle;\n",
       "            margin-right: 10px;\n",
       "            background-color: aliceblue;\n",
       "        }\n",
       "        progress::-webkit-progress-bar {\n",
       "            border-radius: 3px;\n",
       "            background-color: aliceblue;\n",
       "        }\n",
       "        progress::-webkit-progress-value {\n",
       "            background-color: #9d60fb;\n",
       "        }\n",
       "        progress::-moz-progress-bar {\n",
       "            background-color: #9d60fb;\n",
       "        }\n",
       "    </style>\n",
       "    "
      ]
     },
     "metadata": {},
     "output_type": "display_data"
    },
    {
     "data": {
      "text/html": []
     },
     "metadata": {},
     "output_type": "display_data"
    },
    {
     "name": "stdout",
     "output_type": "stream",
     "text": [
      "Data Drift Retrain: False\n",
      "\n",
      " Test Results\n",
      "F1 Score: 0.693576388888889\n",
      "Recall Score: 0.7595057034220533\n",
      "Confusion Matrix: \n",
      "[[22622   906]\n",
      " [  506  1598]]\n",
      "Area Under Curve: 0.8604991964917136\n",
      "\n",
      " Model Drift Retrain: True\n"
     ]
    }
   ],
   "source": [
    "# Check after retraining\n",
    "d3_drift,model2_retrain,pred2=inference_pipeline_with_label(inference_data=prediction_data[prediction_data.columns[:-1]],reference_data=label_check_data,job_id='6378njkwna',trained_model=xgb_retrained,predictors_cols=pred_cat_cols+pred_cts_cols,target_col_name='Churn Value',target_value=prediction_data['Churn Value'])"
   ]
  },
  {
   "cell_type": "markdown",
   "metadata": {},
   "source": [
    "Better result!"
   ]
  },
  {
   "cell_type": "code",
   "execution_count": null,
   "metadata": {
    "id": "0b14ECPu15KC"
   },
   "outputs": [],
   "source": [
    "# Save the model\n",
    "# xgb_retrained.save_model('../models/xgb_retrained.model')"
   ]
  }
 ],
 "metadata": {
  "colab": {
   "provenance": []
  },
  "kernelspec": {
   "display_name": "Python 3 (ipykernel)",
   "language": "python",
   "name": "python3"
  },
  "language_info": {
   "codemirror_mode": {
    "name": "ipython",
    "version": 3
   },
   "file_extension": ".py",
   "mimetype": "text/x-python",
   "name": "python",
   "nbconvert_exporter": "python",
   "pygments_lexer": "ipython3",
   "version": "3.10.2"
  },
  "vscode": {
   "interpreter": {
    "hash": "9054e5812adb29eebbcd6b680e8ef1afc4fe6e00a75ff130e735bd95b5b32301"
   }
  }
 },
 "nbformat": 4,
 "nbformat_minor": 1
}
